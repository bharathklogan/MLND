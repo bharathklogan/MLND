{
 "cells": [
  {
   "cell_type": "markdown",
   "metadata": {},
   "source": [
    "## 1. Introduction\n",
    "\n",
    "In this project of Credit Card Fraud Detection, we have to develop a model that predicts whether a transaction can be categorized into fraud or normal. The column 'Class' in the data set will be the target variable, the value 0 means the transaction is normal and the value 1 means the transaction is fraud. As we know the data set is imbalanced, that is only where we have 492 frauds out of 284,807 transactions made in two days.\n",
    "\n",
    "Here, I going to present 3 ways of handling imbalanced dataset:\n",
    "    \n",
    "    1] Resampling :\n",
    "        \n",
    "            In resampling we are going to undersampe and oversample the data\n",
    "            \n",
    "            1] Undersampling : Undersample the majority class.\n",
    "          \n",
    "            2] Oversampling : Oversample the minority class.\n",
    "\n",
    "           \n",
    "           We are going to resample the data i.e., oversample and undesample data using 2 different python libraries:\n",
    "           \n",
    "               1] Using sklearn.utils.resample\n",
    "                                          \n",
    "                       Here we will oversample and undersample the data randomly\n",
    "               \n",
    "               2] Using imbalanced-learn\n",
    "                       \n",
    "                       Here we will oversample and undersample by applying machine learning algorithms\n",
    "               \n",
    "    \n",
    "    3] Cost-Sensitive Training : Using Penalized Algorithms . We can use any classifier that has parameter 'class_weight' as cost-sensitive algorithm. We will be using Penalized-SVM.\n",
    "    \n",
    "    4] Tree Algorithms : Tree Algorithms generally perform well for imbalance data set compared to other algorithms.\n",
    "    \n",
    "We will be using AUC-precision-recall curve as a performance metric. First, we will explore all the models with the respective recall_score, precision_score, fbeta_score and will choose the model based upon the fbeta_score, then that model will be  optimized and used as final model in which we will plot the auc precision_recall curve.\n",
    "\n",
    "The **F-beta score** can be interpreted as a weighted average of the precision and recall, where an F-beta score reaches its best value at 1 and worst at 0. The beta parameter determines the weight of precision in the combined score. beta < 1 lends more weight to precision, while beta > 1 favors recall . I will be using beta value of 0.5 to give emphasis on precision  as we dont want to misclassify the normal customer as fraud or vice versa.\n",
    "\n",
    "$$ F_{\\beta} = (1 + \\beta^2) \\cdot \\frac{precision \\cdot recall}{\\left( \\beta^2 \\cdot precision \\right) + recall} $$\n",
    "\n",
    "\n",
    "\n"
   ]
  },
  {
   "cell_type": "markdown",
   "metadata": {},
   "source": [
    "##  2. Import the necssary libararies"
   ]
  },
  {
   "cell_type": "code",
   "execution_count": 1,
   "metadata": {},
   "outputs": [
    {
     "name": "stderr",
     "output_type": "stream",
     "text": [
      "C:\\Users\\bharath\\Anaconda2\\lib\\site-packages\\sklearn\\cross_validation.py:44: DeprecationWarning: This module was deprecated in version 0.18 in favor of the model_selection module into which all the refactored classes and functions are moved. Also note that the interface of the new CV iterators are different from that of this module. This module will be removed in 0.20.\n",
      "  \"This module will be removed in 0.20.\", DeprecationWarning)\n",
      "C:\\Users\\bharath\\Anaconda2\\lib\\site-packages\\sklearn\\grid_search.py:43: DeprecationWarning: This module was deprecated in version 0.18 in favor of the model_selection module into which all the refactored classes and functions are moved. This module will be removed in 0.20.\n",
      "  DeprecationWarning)\n"
     ]
    }
   ],
   "source": [
    "# Import libraries necessary for this project\n",
    "import numpy as np\n",
    "import pandas as pd\n",
    "from time import time\n",
    "from IPython.display import display # Allows the use of display() for DataFrames\n",
    "import matplotlib.pyplot as plt\n",
    "from sklearn.utils import resample\n",
    "from sklearn.cross_validation import train_test_split\n",
    "from sklearn.linear_model import LogisticRegression\n",
    "from sklearn.tree import DecisionTreeClassifier\n",
    "from sklearn.svm import SVC\n",
    "from sklearn.metrics import fbeta_score, recall_score, precision_score, average_precision_score, precision_recall_curve\n",
    "from sklearn.ensemble import RandomForestClassifier\n",
    "from imblearn.over_sampling import SMOTE\n",
    "from imblearn.under_sampling import NearMiss\n",
    "import seaborn as sns\n",
    "from collections import Counter\n",
    "from sklearn.grid_search import GridSearchCV \n",
    "from sklearn.metrics import make_scorer\n",
    "\n",
    "# Pretty display for notebooks\n",
    "%matplotlib inline\n",
    "\n",
    "\n"
   ]
  },
  {
   "cell_type": "markdown",
   "metadata": {},
   "source": [
    "## 3. Load the Data set into Pandas Dataframe"
   ]
  },
  {
   "cell_type": "code",
   "execution_count": 2,
   "metadata": {},
   "outputs": [
    {
     "name": "stdout",
     "output_type": "stream",
     "text": [
      "Data has 284807 record with 31 features\n"
     ]
    },
    {
     "data": {
      "text/html": [
       "<div>\n",
       "<style>\n",
       "    .dataframe thead tr:only-child th {\n",
       "        text-align: right;\n",
       "    }\n",
       "\n",
       "    .dataframe thead th {\n",
       "        text-align: left;\n",
       "    }\n",
       "\n",
       "    .dataframe tbody tr th {\n",
       "        vertical-align: top;\n",
       "    }\n",
       "</style>\n",
       "<table border=\"1\" class=\"dataframe\">\n",
       "  <thead>\n",
       "    <tr style=\"text-align: right;\">\n",
       "      <th></th>\n",
       "      <th>Time</th>\n",
       "      <th>V1</th>\n",
       "      <th>V2</th>\n",
       "      <th>V3</th>\n",
       "      <th>V4</th>\n",
       "      <th>V5</th>\n",
       "      <th>V6</th>\n",
       "      <th>V7</th>\n",
       "      <th>V8</th>\n",
       "      <th>V9</th>\n",
       "      <th>...</th>\n",
       "      <th>V21</th>\n",
       "      <th>V22</th>\n",
       "      <th>V23</th>\n",
       "      <th>V24</th>\n",
       "      <th>V25</th>\n",
       "      <th>V26</th>\n",
       "      <th>V27</th>\n",
       "      <th>V28</th>\n",
       "      <th>Amount</th>\n",
       "      <th>Class</th>\n",
       "    </tr>\n",
       "  </thead>\n",
       "  <tbody>\n",
       "    <tr>\n",
       "      <th>0</th>\n",
       "      <td>0.0</td>\n",
       "      <td>-1.359807</td>\n",
       "      <td>-0.072781</td>\n",
       "      <td>2.536347</td>\n",
       "      <td>1.378155</td>\n",
       "      <td>-0.338321</td>\n",
       "      <td>0.462388</td>\n",
       "      <td>0.239599</td>\n",
       "      <td>0.098698</td>\n",
       "      <td>0.363787</td>\n",
       "      <td>...</td>\n",
       "      <td>-0.018307</td>\n",
       "      <td>0.277838</td>\n",
       "      <td>-0.110474</td>\n",
       "      <td>0.066928</td>\n",
       "      <td>0.128539</td>\n",
       "      <td>-0.189115</td>\n",
       "      <td>0.133558</td>\n",
       "      <td>-0.021053</td>\n",
       "      <td>149.62</td>\n",
       "      <td>0</td>\n",
       "    </tr>\n",
       "  </tbody>\n",
       "</table>\n",
       "<p>1 rows × 31 columns</p>\n",
       "</div>"
      ],
      "text/plain": [
       "   Time        V1        V2        V3        V4        V5        V6        V7  \\\n",
       "0   0.0 -1.359807 -0.072781  2.536347  1.378155 -0.338321  0.462388  0.239599   \n",
       "\n",
       "         V8        V9  ...         V21       V22       V23       V24  \\\n",
       "0  0.098698  0.363787  ...   -0.018307  0.277838 -0.110474  0.066928   \n",
       "\n",
       "        V25       V26       V27       V28  Amount  Class  \n",
       "0  0.128539 -0.189115  0.133558 -0.021053  149.62      0  \n",
       "\n",
       "[1 rows x 31 columns]"
      ]
     },
     "metadata": {},
     "output_type": "display_data"
    }
   ],
   "source": [
    "# Load the Census dataset\n",
    "\n",
    "data = pd.read_csv(\"creditcardfraud/creditcard.csv\")\n",
    "\n",
    "# Success - Display the first record\n",
    "print \"Data has {} record with {} features\".format(data.shape[0], data.shape[1])\n",
    "display(data.head(n=1))\n",
    "results = {}"
   ]
  },
  {
   "cell_type": "markdown",
   "metadata": {},
   "source": [
    "## 4. Data Exploration\n",
    "    \n",
    "1] Data set contains only numerical input variables which are the result of a PCA transformation. Due to confidentiality issues, \n",
    "features have named V1, V2, ... V28. These features are the principal components obtained with PCA, the only features which \n",
    "have not been transformed with PCA are 'Time' and 'Amount'.\n",
    "\n",
    "2] Feature 'Time' contains the seconds elapsed between each transaction and the first transaction in the dataset, we can drop this feature as time difference between the first and the subsequent transactions does not have any relation to customer being fraud. \n",
    "\n",
    "3] The feature 'Amount' is the transaction Amount. As said in the problem describtion, we can use this feature when we do the cost-effective training.   \n",
    "\n",
    "4] The feature 'Class' is the response variable and it takes value 1 in case of fraud and 0 otherwise. Therefore we will analyse these features alone. \n",
    "\n",
    "### 4.1 Data Visualization\n",
    "    \n",
    "        First, we will visualize how the data is distributed for the feature 'Class' and 'Amount'"
   ]
  },
  {
   "cell_type": "code",
   "execution_count": 3,
   "metadata": {},
   "outputs": [
    {
     "name": "stderr",
     "output_type": "stream",
     "text": [
      "C:\\Users\\bharath\\Anaconda2\\lib\\site-packages\\matplotlib\\figure.py:403: UserWarning: matplotlib is currently using a non-GUI backend, so cannot show the figure\n",
      "  \"matplotlib is currently using a non-GUI backend, \"\n"
     ]
    },
    {
     "data": {
      "image/png": "[encoded data removed]",
      "text/plain": [
       "<matplotlib.figure.Figure at 0xd82dc88>"
      ]
     },
     "metadata": {},
     "output_type": "display_data"
    }
   ],
   "source": [
    "# Create figure\n",
    "fig = plt.figure(figsize = (12,10));\n",
    "for i, feature in enumerate(['Class', 'Amount']):\n",
    "    ax = fig.add_subplot(2, 2, i+1)\n",
    "    ax.hist(data[feature], bins = 25, color = '#00A0A0')\n",
    "    ax.set_title(\"'%s'\"%(feature), fontsize = 14)\n",
    "    ax.set_xlabel(\"Value\")\n",
    "    ax.set_ylabel(\"Number of Records\")\n",
    "        \n",
    "   \n",
    "    fig.tight_layout()\n",
    "    fig.show()"
   ]
  },
  {
   "cell_type": "markdown",
   "metadata": {},
   "source": [
    "#### Observations \n",
    "\n",
    "We can see that Class is clearly has very high count in 0's and very few in 1's. \n",
    "\n",
    "Similary feature Amount is also positiviely skewed."
   ]
  },
  {
   "cell_type": "markdown",
   "metadata": {
    "collapsed": true
   },
   "source": [
    "### 4.2 Data Preprocesing\n",
    "\n",
    "#### 4.2.1 Transforming Skewed Continuous Features\n",
    "\n",
    "For highly-skewed feature distributions such as it is common practice to apply a logarithmic transformation on the data so that the very large and very small values do not negatively affect the performance of a learning algorithm. Using a logarithmic transformation significantly reduces the range of values caused by outliers. Care must be taken when applying this transformation however: The logarithm of 0 is undefined, so we must translate the values by a small amount above 0 to apply the the logarithm successfully."
   ]
  },
  {
   "cell_type": "code",
   "execution_count": 4,
   "metadata": {
    "scrolled": true
   },
   "outputs": [
    {
     "data": {
      "text/plain": [
       "<matplotlib.text.Text at 0x16b91c18>"
      ]
     },
     "execution_count": 4,
     "metadata": {},
     "output_type": "execute_result"
    },
    {
     "data": {
      "image/png": "[encoded data removed]",
      "text/plain": [
       "<matplotlib.figure.Figure at 0x1660c828>"
      ]
     },
     "metadata": {},
     "output_type": "display_data"
    }
   ],
   "source": [
    "# Visualizing the Amount.\n",
    "data['Amount'] = data['Amount'].replace(np.nan,0)\n",
    "data['Amount'] = data['Amount'].apply(lambda x: np.log(x + 1))\n",
    "plt.hist(data['Amount'], bins = 25, color = '#00A0A0')\n",
    "plt.title(\"'%s'\"%(feature), fontsize = 14)\n",
    "plt.xlabel(\"Value\")\n",
    "plt.ylabel(\"Number of Records\")"
   ]
  },
  {
   "cell_type": "markdown",
   "metadata": {},
   "source": [
    "We can see that now the data distribution is improved. Now we need to normalize within a range similar to other features\n",
    "in order to feed it into SVM classifier."
   ]
  },
  {
   "cell_type": "markdown",
   "metadata": {},
   "source": [
    "#### 4.2.2 Normalize the Amount Feature\n",
    "\n",
    "We will now normalize the Amount feature."
   ]
  },
  {
   "cell_type": "code",
   "execution_count": 5,
   "metadata": {
    "scrolled": true
   },
   "outputs": [
    {
     "name": "stdout",
     "output_type": "stream",
     "text": [
      "                           Data Before normalizing is given below:                       \n"
     ]
    },
    {
     "data": {
      "text/html": [
       "<div>\n",
       "<style>\n",
       "    .dataframe thead tr:only-child th {\n",
       "        text-align: right;\n",
       "    }\n",
       "\n",
       "    .dataframe thead th {\n",
       "        text-align: left;\n",
       "    }\n",
       "\n",
       "    .dataframe tbody tr th {\n",
       "        vertical-align: top;\n",
       "    }\n",
       "</style>\n",
       "<table border=\"1\" class=\"dataframe\">\n",
       "  <thead>\n",
       "    <tr style=\"text-align: right;\">\n",
       "      <th></th>\n",
       "      <th>Time</th>\n",
       "      <th>V1</th>\n",
       "      <th>V2</th>\n",
       "      <th>V3</th>\n",
       "      <th>V4</th>\n",
       "      <th>V5</th>\n",
       "      <th>V6</th>\n",
       "      <th>V7</th>\n",
       "      <th>V8</th>\n",
       "      <th>V9</th>\n",
       "      <th>...</th>\n",
       "      <th>V21</th>\n",
       "      <th>V22</th>\n",
       "      <th>V23</th>\n",
       "      <th>V24</th>\n",
       "      <th>V25</th>\n",
       "      <th>V26</th>\n",
       "      <th>V27</th>\n",
       "      <th>V28</th>\n",
       "      <th>Amount</th>\n",
       "      <th>Class</th>\n",
       "    </tr>\n",
       "  </thead>\n",
       "  <tbody>\n",
       "    <tr>\n",
       "      <th>0</th>\n",
       "      <td>0.0</td>\n",
       "      <td>-1.359807</td>\n",
       "      <td>-0.072781</td>\n",
       "      <td>2.536347</td>\n",
       "      <td>1.378155</td>\n",
       "      <td>-0.338321</td>\n",
       "      <td>0.462388</td>\n",
       "      <td>0.239599</td>\n",
       "      <td>0.098698</td>\n",
       "      <td>0.363787</td>\n",
       "      <td>...</td>\n",
       "      <td>-0.018307</td>\n",
       "      <td>0.277838</td>\n",
       "      <td>-0.110474</td>\n",
       "      <td>0.066928</td>\n",
       "      <td>0.128539</td>\n",
       "      <td>-0.189115</td>\n",
       "      <td>0.133558</td>\n",
       "      <td>-0.021053</td>\n",
       "      <td>5.01476</td>\n",
       "      <td>0</td>\n",
       "    </tr>\n",
       "  </tbody>\n",
       "</table>\n",
       "<p>1 rows × 31 columns</p>\n",
       "</div>"
      ],
      "text/plain": [
       "   Time        V1        V2        V3        V4        V5        V6        V7  \\\n",
       "0   0.0 -1.359807 -0.072781  2.536347  1.378155 -0.338321  0.462388  0.239599   \n",
       "\n",
       "         V8        V9  ...         V21       V22       V23       V24  \\\n",
       "0  0.098698  0.363787  ...   -0.018307  0.277838 -0.110474  0.066928   \n",
       "\n",
       "        V25       V26       V27       V28   Amount  Class  \n",
       "0  0.128539 -0.189115  0.133558 -0.021053  5.01476      0  \n",
       "\n",
       "[1 rows x 31 columns]"
      ]
     },
     "metadata": {},
     "output_type": "display_data"
    },
    {
     "name": "stdout",
     "output_type": "stream",
     "text": [
      "                           Data After normalizing is given below:                        \n"
     ]
    },
    {
     "data": {
      "text/html": [
       "<div>\n",
       "<style>\n",
       "    .dataframe thead tr:only-child th {\n",
       "        text-align: right;\n",
       "    }\n",
       "\n",
       "    .dataframe thead th {\n",
       "        text-align: left;\n",
       "    }\n",
       "\n",
       "    .dataframe tbody tr th {\n",
       "        vertical-align: top;\n",
       "    }\n",
       "</style>\n",
       "<table border=\"1\" class=\"dataframe\">\n",
       "  <thead>\n",
       "    <tr style=\"text-align: right;\">\n",
       "      <th></th>\n",
       "      <th>Time</th>\n",
       "      <th>V1</th>\n",
       "      <th>V2</th>\n",
       "      <th>V3</th>\n",
       "      <th>V4</th>\n",
       "      <th>V5</th>\n",
       "      <th>V6</th>\n",
       "      <th>V7</th>\n",
       "      <th>V8</th>\n",
       "      <th>V9</th>\n",
       "      <th>...</th>\n",
       "      <th>V21</th>\n",
       "      <th>V22</th>\n",
       "      <th>V23</th>\n",
       "      <th>V24</th>\n",
       "      <th>V25</th>\n",
       "      <th>V26</th>\n",
       "      <th>V27</th>\n",
       "      <th>V28</th>\n",
       "      <th>Amount</th>\n",
       "      <th>Class</th>\n",
       "    </tr>\n",
       "  </thead>\n",
       "  <tbody>\n",
       "    <tr>\n",
       "      <th>0</th>\n",
       "      <td>0.0</td>\n",
       "      <td>-1.359807</td>\n",
       "      <td>-0.072781</td>\n",
       "      <td>2.536347</td>\n",
       "      <td>1.378155</td>\n",
       "      <td>-0.338321</td>\n",
       "      <td>0.462388</td>\n",
       "      <td>0.239599</td>\n",
       "      <td>0.098698</td>\n",
       "      <td>0.363787</td>\n",
       "      <td>...</td>\n",
       "      <td>-0.018307</td>\n",
       "      <td>0.277838</td>\n",
       "      <td>-0.110474</td>\n",
       "      <td>0.066928</td>\n",
       "      <td>0.128539</td>\n",
       "      <td>-0.189115</td>\n",
       "      <td>0.133558</td>\n",
       "      <td>-0.021053</td>\n",
       "      <td>0.493873</td>\n",
       "      <td>0</td>\n",
       "    </tr>\n",
       "  </tbody>\n",
       "</table>\n",
       "<p>1 rows × 31 columns</p>\n",
       "</div>"
      ],
      "text/plain": [
       "   Time        V1        V2        V3        V4        V5        V6        V7  \\\n",
       "0   0.0 -1.359807 -0.072781  2.536347  1.378155 -0.338321  0.462388  0.239599   \n",
       "\n",
       "         V8        V9  ...         V21       V22       V23       V24  \\\n",
       "0  0.098698  0.363787  ...   -0.018307  0.277838 -0.110474  0.066928   \n",
       "\n",
       "        V25       V26       V27       V28    Amount  Class  \n",
       "0  0.128539 -0.189115  0.133558 -0.021053  0.493873      0  \n",
       "\n",
       "[1 rows x 31 columns]"
      ]
     },
     "metadata": {},
     "output_type": "display_data"
    }
   ],
   "source": [
    "from sklearn import preprocessing\n",
    "print(\"                           Data Before normalizing is given below:                       \")\n",
    "display(data.head(n=1))\n",
    "\n",
    "\n",
    "scaler = preprocessing.MinMaxScaler()\n",
    "\n",
    "data['Amount']  = scaler.fit_transform(data['Amount'].values.reshape(-1, 1))\n",
    "#data['Time'] = preprocessing.MinMaxScaler().fit_transform(data['Time'].reshape(-1, 1))\n",
    "\n",
    "#features[numerical]  = np.log(features[numerical])\n",
    "\n",
    "print \"                           Data After normalizing is given below:                        \"\n",
    "display(data.head(n=1))"
   ]
  },
  {
   "cell_type": "code",
   "execution_count": 6,
   "metadata": {},
   "outputs": [
    {
     "data": {
      "text/plain": [
       "<matplotlib.text.Text at 0x162b2ef0>"
      ]
     },
     "execution_count": 6,
     "metadata": {},
     "output_type": "execute_result"
    },
    {
     "data": {
      "image/png": "[encoded data removed]",
      "text/plain": [
       "<matplotlib.figure.Figure at 0x164920b8>"
      ]
     },
     "metadata": {},
     "output_type": "display_data"
    }
   ],
   "source": [
    "plt.hist(data['Amount'], bins = 25, color = '#00A0A0')\n",
    "plt.title(\"'%s'\"%(feature), fontsize = 14)\n",
    "plt.xlabel(\"Value\")\n",
    "plt.ylabel(\"Number of Records\")"
   ]
  },
  {
   "cell_type": "markdown",
   "metadata": {},
   "source": [
    "We can see that data is normalized within range between 0 to 1."
   ]
  },
  {
   "cell_type": "markdown",
   "metadata": {},
   "source": [
    "### 5. Function to split data\n",
    "\n",
    "    Creating this function as we need to work with original data set by different classifiers. \n",
    "    This will help to resample the data individually by each classfiiers"
   ]
  },
  {
   "cell_type": "code",
   "execution_count": 7,
   "metadata": {
    "collapsed": true
   },
   "outputs": [],
   "source": [
    "#Function to split the original data and rturn values basd on the flag\n",
    "def split_data(flag):\n",
    "       \n",
    "    y = data.Class\n",
    "    X = data.drop(['Time', 'Amount', 'Class'], axis=1)\n",
    "    X_train, X_test, y_train, y_test = train_test_split(X, \n",
    "                                                    y, \n",
    "                                                    test_size = 0.3, \n",
    "                                                    random_state = 0)\n",
    "        \n",
    "    if flag == 1:\n",
    "        return (X,y)\n",
    "    elif flag  == 2:\n",
    "        return (X_train, X_test, y_train, y_test)\n",
    "    else:\n",
    "        return (X, y, X_train, X_test, y_train, y_test)"
   ]
  },
  {
   "cell_type": "markdown",
   "metadata": {},
   "source": [
    "### 6. Resampling\n",
    "\n",
    "    We will first use the library sklearn.utils.resample to resample the data\n",
    "\n",
    "#### 6.1 Over sampling using sklearn.utils.resample\n",
    "\n",
    "All data points from majority and minority training sets are used. Additionally, instances are randomly picked, with replacement, from the minority training set till the desired balance is achieved. Adding the same minority samples might result in overfitting, thereby reducing the generalization ability of the classifier. "
   ]
  },
  {
   "cell_type": "code",
   "execution_count": 8,
   "metadata": {},
   "outputs": [
    {
     "name": "stdout",
     "output_type": "stream",
     "text": [
      "No. of 0's and 1's in the feature Class before oversampling the data\n",
      "0    284315\n",
      "1       492\n",
      "Name: Class, dtype: int64\n",
      "No. of 0's and 1's in the feature Class after oversampling the data\n",
      "1    284315\n",
      "0    284315\n",
      "Name: Class, dtype: int64\n",
      "Training set has 398041 samples.\n",
      "Testing set has 170589 samples.\n",
      "('Train Time:', 6.871000051498413)\n",
      "('Prediction Time:', 0.021000146865844727)\n",
      "('fbeta score:', 0.9266506275406805)\n",
      "('recall_score:', 0.91521812925050627)\n",
      "('precision_score:', 0.97538703359489032)\n"
     ]
    }
   ],
   "source": [
    "#Copying the original data\n",
    "resample_data = data.drop(['Time', 'Amount'], axis=1)\n",
    "#samples_n = (resample_data['Class' == 1]).sum()\n",
    "\n",
    "# Initializing the dictionary to store the classifier metrics \n",
    "results['oversampled']={}\n",
    "\n",
    "print \"No. of 0's and 1's in the feature Class before oversampling the data\"\n",
    "print(resample_data.Class.value_counts())\n",
    "\n",
    "\n",
    "# Separate majority and minority classes\n",
    "data_majority = resample_data[resample_data.Class == 0]\n",
    "data_minority = resample_data[resample_data.Class == 1]\n",
    " \n",
    "# Upsample minority class\n",
    "data_minority_oversampled  = resample(data_minority, \n",
    "                                 replace=True,     \n",
    "                                 n_samples=284315, \n",
    "                                 random_state=123) \n",
    " \n",
    "# Combine majority class with upsampled minority class\n",
    "data_oversampled = pd.concat([data_majority, data_minority_oversampled])\n",
    "\n",
    "print \"No. of 0's and 1's in the feature Class after oversampling the data\"\n",
    " \n",
    "print(data_oversampled.Class.value_counts())\n",
    "\n",
    "y = data_oversampled.Class\n",
    "X = data_oversampled.drop('Class', axis=1)\n",
    "\n",
    "# Split the data into training and testing sets\n",
    "X_train_o, X_test_o, y_train_o, y_test_o = train_test_split(X, \n",
    "                                                    y, \n",
    "                                                    test_size = 0.3, \n",
    "                                                    random_state = 0)\n",
    "\n",
    "    \n",
    "print \"Training set has {} samples.\".format(X_train_o.shape[0])\n",
    "print \"Testing set has {} samples.\".format(X_test_o.shape[0])\n",
    "\n",
    "start = time()\n",
    "#Training the Classifier\n",
    "clf_over_sampled = LogisticRegression().fit(X_train_o, y_train_o)\n",
    "end = time()\n",
    "results['oversampled']['train_time'] = end - start\n",
    "\n",
    "# Predict on training set\n",
    "start = time()\n",
    "y_pred_score_o = clf_over_sampled.predict(X_test_o)\n",
    "end = time()\n",
    "results['oversampled']['pred_time'] = end - start\n",
    "\n",
    "results['oversampled']['fbeta'] = fbeta_score(y_test_o,y_pred_score_o,beta=2)\n",
    "results['oversampled']['recall']= recall_score(y_test_o,y_pred_score_o)\n",
    "results['oversampled']['precision'] = precision_score(y_test_o,y_pred_score_o)\n",
    "\n",
    "\n",
    "print (\"Train Time:\", results['oversampled']['train_time'])\n",
    "print (\"Prediction Time:\", results['oversampled']['pred_time'])\n",
    "print (\"fbeta score:\", results['oversampled']['fbeta'])\n",
    "print('recall_score:', results['oversampled']['recall'])\n",
    "print('precision_score:', results['oversampled']['precision'])\n",
    "    \n"
   ]
  },
  {
   "cell_type": "markdown",
   "metadata": {},
   "source": [
    "#### Note:\n",
    "\n",
    "One issue I found here is that this same code which works fine in 64-bit Windows-7 OS was not working in 32-bit Windows-7 OS "
   ]
  },
  {
   "cell_type": "markdown",
   "metadata": {},
   "source": [
    "#### 6.2 Under ampling using sklearn.utils.resample\n",
    "\n",
    "All of the training data points from the minority class are used. Instances are randomly removed from the majority training set till the desired balance is achieved. One disadvantage of this approach is that some useful information might be lost from the majority class due to the undersampling. "
   ]
  },
  {
   "cell_type": "code",
   "execution_count": 9,
   "metadata": {},
   "outputs": [
    {
     "name": "stdout",
     "output_type": "stream",
     "text": [
      "No. of 0's and 1's in the feature Class before undersampling the data\n",
      "0    284315\n",
      "1       492\n",
      "Name: Class, dtype: int64\n",
      "No. of 0's and 1's in the feature Class after undersampling the data\n",
      "1    492\n",
      "0    492\n",
      "Name: Class, dtype: int64\n",
      "Training set has 688 samples.\n",
      "Testing set has 296 samples.\n",
      "('Train Time:', 0.007999897003173828)\n",
      "('Prediction Time:', 0.0)\n",
      "('fbeta score:', 0.90476190476190477)\n",
      "('recall_score:', 0.89261744966442957)\n",
      "('precision_score:', 0.95683453237410077)\n"
     ]
    }
   ],
   "source": [
    "# copying the orginal data  \n",
    "resample_data = data.drop(['Time', 'Amount'], axis=1)\n",
    "\n",
    "# Initializing the dictionary to store the classifier metrics \n",
    "results['undersampled']={}\n",
    "\n",
    "#Separate majority and minority classes\n",
    "print \"No. of 0's and 1's in the feature Class before undersampling the data\"\n",
    "print(resample_data.Class.value_counts())\n",
    "\n",
    "data_majority = resample_data[resample_data.Class==0]\n",
    "data_minority = resample_data[resample_data.Class==1]\n",
    " \n",
    "# Downsample majority class\n",
    "data_majority_undersampled = resample(data_majority, \n",
    "                                 replace=False,   \n",
    "                                 n_samples=492,   \n",
    "                                 random_state=5) \n",
    " \n",
    "# Combine minority class with downsampled majority class\n",
    "data_undersampled = pd.concat([data_majority_undersampled, data_minority])\n",
    " \n",
    "# Display new class counts\n",
    "print \"No. of 0's and 1's in the feature Class after undersampling the data\" \n",
    "print(data_undersampled.Class.value_counts())\n",
    "\n",
    "y = data_undersampled.Class\n",
    "X = data_undersampled.drop('Class', axis=1)\n",
    "\n",
    "# Split the data into training and testing sets\n",
    "X_train_u, X_test_u, y_train_u, y_test_u = train_test_split(X, \n",
    "                                                    y, \n",
    "                                                    test_size = 0.3, \n",
    "                                                    random_state = 0)\n",
    "\n",
    "    \n",
    "print \"Training set has {} samples.\".format(X_train_u.shape[0])\n",
    "print \"Testing set has {} samples.\".format(X_test_u.shape[0])\n",
    "\n",
    "start = time()\n",
    "# Training the classifier\n",
    "clf_under_sampled = LogisticRegression().fit(X_train_u, y_train_u)\n",
    "end = time()\n",
    "results['undersampled']['train_time'] = end - start\n",
    "\n",
    "# Predict the testing set\n",
    "start = time()\n",
    "y_pred_score_u = clf_under_sampled.predict(X_test_u)\n",
    "end = time()\n",
    "results['undersampled']['pred_time'] = end - start\n",
    "\n",
    "results['undersampled']['fbeta'] = fbeta_score(y_test_u,y_pred_score_u,beta=2)\n",
    "results['undersampled']['recall'] = recall_score(y_test_u,y_pred_score_u)\n",
    "results['undersampled']['precision'] = precision_score(y_test_u,y_pred_score_u)\n",
    "\n",
    "\n",
    "print (\"Train Time:\", results['undersampled']['train_time'])\n",
    "print (\"Prediction Time:\", results['undersampled']['pred_time'])\n",
    "print (\"fbeta score:\", results['undersampled']['fbeta'])\n",
    "print('recall_score:', results['undersampled']['recall'])\n",
    "print('precision_score:', results['undersampled']['precision'])\n"
   ]
  },
  {
   "cell_type": "markdown",
   "metadata": {},
   "source": [
    "#### 6.4 Disadvantage of Random Over sampling and Random Under sampling\n",
    "\n",
    "The disadvantage of Random Over Sampling is that adding the same minority samples might result in overfitting, thereby reducing the generalization ability of the classifier.\n",
    "\n",
    "The disadvantage of Random Under Sampling approach is that some useful information might be lost from the majority class due to the undersampling."
   ]
  },
  {
   "cell_type": "markdown",
   "metadata": {
    "collapsed": true
   },
   "source": [
    "#### 6.5 Over sampling using imblearn.over_sampling.SMOTE\n",
    "\n",
    "\n",
    "\n",
    "#####    SMOTE: Synthetic Minority Over-sampling Technique \n",
    "    \n",
    "   Over-sampling approach in which the minority class is over-sampled by creating “synthetic” examples rather than by over-sampling with replacement. The minority class is over-sampled by taking each minority class sample and introducing synthetic examples along the line segments joining any/all of the k minority class nearest neighbors. Depending upon the amount of over-sampling required, neighbors from the k nearest neighbors are randomly chosen.       "
   ]
  },
  {
   "cell_type": "code",
   "execution_count": 10,
   "metadata": {},
   "outputs": [
    {
     "name": "stdout",
     "output_type": "stream",
     "text": [
      "No. of 0's and 1's in the feature Class before oversampling the data\n",
      "Counter({0: 284315, 1: 492})\n",
      "No. of 0's and 1's in the feature Class After oversampling the data\n",
      "Counter({0: 284315, 1: 284315})\n",
      "('Train Time:', 5.976000070571899)\n",
      "('Prediction Time:', 0.013000011444091797)\n",
      "('fbeta score:', 0.92551295602015315)\n",
      "('recall_score:', 0.914419846166454)\n",
      "('precision_score:', 0.97271413982913646)\n"
     ]
    }
   ],
   "source": [
    "# Getting the original features and labels as X,y from split_data function\n",
    "X_sm,y_sm = split_data(1)\n",
    "print \"No. of 0's and 1's in the feature Class before oversampling the data\"\n",
    "print(Counter(y_sm))\n",
    "\n",
    "start = time()\n",
    "# Oversampling the data using SMOTE\n",
    "X_resampled_sm, y_resampled_sm = SMOTE().fit_sample(X_sm,y_sm)\n",
    "end = time()\n",
    "print \"No. of 0's and 1's in the feature Class After oversampling the data\"\n",
    "print(Counter(y_resampled_sm))\n",
    "\n",
    "# Initializng the dictionary to store performance metrics\n",
    "results['SMOTE'] = {}\n",
    "results['SMOTE']['resample_time'] = end - start\n",
    "\n",
    "# Splitting the resampled data \n",
    "X_train_sm, X_test_sm, y_train_sm, y_test_sm = train_test_split(X_resampled_sm, \n",
    "                                                    y_resampled_sm, \n",
    "                                                    test_size = 0.3, \n",
    "                                                    random_state = 0)\n",
    "start = time()\n",
    "# Training the Classifier\n",
    "clf_smote = LogisticRegression().fit(X_train_sm, y_train_sm)\n",
    "end = time()\n",
    "results['SMOTE']['train_time'] = end - start\n",
    "\n",
    "\n",
    "# Predict on training set\n",
    "start = time()\n",
    "y_pred_score_sm = clf_smote.predict(X_test_sm)\n",
    "end = time()\n",
    "results['SMOTE']['pred_time'] = end - start\n",
    "\n",
    "\n",
    "results['SMOTE']['fbeta'] = fbeta_score(y_test_sm,y_pred_score_sm,beta=2)\n",
    "results['SMOTE']['recall'] = recall_score(y_test_sm,y_pred_score_sm)\n",
    "results['SMOTE']['precision'] = precision_score(y_test_sm,y_pred_score_sm)\n",
    "\n",
    "print (\"Train Time:\", results['SMOTE']['train_time'])\n",
    "print (\"Prediction Time:\", results['SMOTE']['pred_time'])\n",
    "print (\"fbeta score:\", results['SMOTE']['fbeta'])\n",
    "print('recall_score:', results['SMOTE']['recall'])\n",
    "print('precision_score:', results['SMOTE']['precision'])\n",
    "\n"
   ]
  },
  {
   "cell_type": "markdown",
   "metadata": {},
   "source": [
    "#### 6.6 Under sampling using imblearn.under_sampling.NearMiss\n",
    "\n",
    "\n",
    "#####    NearMiss \n",
    "    \n",
    "The NearMiss family of methods perform undersampling of points in the majority class based on their distance to other points in\n",
    "the same class. There are 3 variants of this techinque available, they are :\n",
    "    \n",
    "    1] NearMiss-1\n",
    "    \n",
    "    2] NearMiss-2\n",
    "    \n",
    "    3] NearMiss-3\n",
    "    \n",
    "1] NearMiss-1 : In NearMiss-1, those points from majority class are retained whose mean distance to the k nearest points in \n",
    "             minority  is lowest, where k is a tunable hyperparameter. I will be using this method here.\n",
    "        \n",
    "2] NearMiss-2 : In contrast to NearMiss-1, NearMiss-2 keeps those points from majority whose mean distance to the k farthest \n",
    "                points in minority is lowest.\n",
    "        \n",
    "3] NearMiss-3 : The final NearMiss variant, NearMiss-3 selects k nearest neighbors in majority class for every point in minority\n",
    "                class. In this case, the undersampling ratio is directly controlled by k and is not separately tuned.\n"
   ]
  },
  {
   "cell_type": "code",
   "execution_count": 11,
   "metadata": {},
   "outputs": [
    {
     "name": "stdout",
     "output_type": "stream",
     "text": [
      "No. of 0's and 1's in the feature Class before undersampling the data\n",
      "Counter({0: 284315, 1: 492})\n",
      "No. of 0's and 1's in the feature Class after undersampling the data\n",
      "Counter({0: 492, 1: 492})\n",
      "('Train Time:', 0.009000062942504883)\n",
      "('Prediction Time:', 0.0)\n",
      "('fbeta score:', 0.91850828729281764)\n",
      "('recall_score:', 0.90476190476190477)\n",
      "('precision_score:', 0.9779411764705882)\n"
     ]
    }
   ],
   "source": [
    "# Getting the original features and labels as X,y from split_data function\n",
    "X_nm,y_nm = split_data(1)\n",
    "print \"No. of 0's and 1's in the feature Class before undersampling the data\"\n",
    "print(Counter(y_nm))\n",
    "\n",
    "#Initializing the Nearmiss Classifier\n",
    "nm1 = NearMiss(random_state=0, version=1)\n",
    "start = time()\n",
    "# Undersampling the data\n",
    "X_resampled_nm1, y_resampled_nm1 = nm1.fit_sample(X_nm, y_nm)\n",
    "end = time()\n",
    "\n",
    "print \"No. of 0's and 1's in the feature Class after undersampling the data\"\n",
    "print(Counter(y_resampled_nm1))\n",
    "\n",
    "#Initializing the dictionary to store the classifier metrics\n",
    "results['NearMiss'] = {}\n",
    "results['NearMiss']['resample_time'] = end - start\n",
    "\n",
    "#Splitting the undersampled data\n",
    "X_train_nm, X_test_nm, y_train_nm, y_test_nm = train_test_split(X_resampled_nm1, \n",
    "                                                    y_resampled_nm1, \n",
    "                                                    test_size = 0.3, \n",
    "                                                    random_state = 0)\n",
    "#Training the classifier \n",
    "start = time()\n",
    "clf_nm = LogisticRegression().fit(X_train_nm, y_train_nm)\n",
    "end = time()\n",
    "results['NearMiss']['train_time'] = end - start\n",
    "\n",
    "\n",
    "# Predict on training set\n",
    "start = time()\n",
    "y_pred_score_nm = clf_nm.predict(X_test_nm)\n",
    "end = time()\n",
    "results['NearMiss']['pred_time'] = end - start\n",
    "\n",
    "\n",
    "results['NearMiss']['fbeta'] = fbeta_score(y_test_nm,y_pred_score_nm,beta=2)\n",
    "results['NearMiss']['recall'] = recall_score(y_test_nm,y_pred_score_nm)\n",
    "results['NearMiss']['precision'] = precision_score(y_test_nm,y_pred_score_nm)\n",
    "\n",
    "print (\"Train Time:\", results['NearMiss']['train_time'])\n",
    "print (\"Prediction Time:\", results['NearMiss']['pred_time'])\n",
    "print (\"fbeta score:\", results['NearMiss']['fbeta'])\n",
    "print('recall_score:', results['NearMiss']['recall'])\n",
    "print('precision_score:', results['NearMiss']['precision'])\n"
   ]
  },
  {
   "cell_type": "markdown",
   "metadata": {},
   "source": [
    "### 7. Tree Algorithms\n",
    "\n",
    "We will use Decision Tree Algorithm without resampling the data."
   ]
  },
  {
   "cell_type": "code",
   "execution_count": 12,
   "metadata": {},
   "outputs": [
    {
     "name": "stdout",
     "output_type": "stream",
     "text": [
      "('Train Time:', 18.292999982833862)\n",
      "('Prediction Time:', 0.023999929428100586)\n",
      "('fbeta score:', 0.77348066298342533)\n",
      "('recall_score:', 0.76190476190476186)\n",
      "('precision_score:', 0.82352941176470584)\n"
     ]
    }
   ],
   "source": [
    "# split orginal data into train & test \n",
    "X_train_dt, X_test_dt, y_train_dt, y_test_dt = split_data(2)\n",
    "\n",
    "#Initializing Dictionary to store output of decision tree classifier metrics\n",
    "results['Decision_Tree'] = {}\n",
    "\n",
    "#Initialize classfier\n",
    "clf_DT = DecisionTreeClassifier(random_state=5)\n",
    "\n",
    "start = time()\n",
    "# Train the Classifier\n",
    "clf_DT.fit(X_train_dt, y_train_dt)\n",
    "end = time()\n",
    "results['Decision_Tree']['train_time'] = end - start\n",
    "\n",
    "start = time()\n",
    "# Test the classifier\n",
    "y_pred_score_DT = clf_DT.predict(X_test_dt)\n",
    "end = time()\n",
    "results['Decision_Tree']['pred_time'] = end - start\n",
    "    \n",
    "results['Decision_Tree']['fbeta'] = fbeta_score(y_test_dt,y_pred_score_DT,beta=2)\n",
    "results['Decision_Tree']['recall'] = recall_score(y_test_dt,y_pred_score_DT)\n",
    "results['Decision_Tree']['precision'] = precision_score(y_test_dt,y_pred_score_DT)\n",
    "\n",
    "print (\"Train Time:\", results['Decision_Tree']['train_time'])\n",
    "print (\"Prediction Time:\", results['Decision_Tree']['pred_time'])\n",
    "print (\"fbeta score:\", results['Decision_Tree']['fbeta'])\n",
    "print('recall_score:', results['Decision_Tree']['recall'])\n",
    "print('precision_score:', results['Decision_Tree']['precision'])\n"
   ]
  },
  {
   "cell_type": "markdown",
   "metadata": {},
   "source": [
    "### 8. Cost Sensitive Algorithm: \n",
    "\n",
    "We will use Support Vector Machine with linear kernal and setting the parameter class_wieght equal to 'balanced'."
   ]
  },
  {
   "cell_type": "code",
   "execution_count": 13,
   "metadata": {},
   "outputs": [
    {
     "name": "stdout",
     "output_type": "stream",
     "text": [
      "('Train Time:', 4551.335999965668)\n",
      "('Prediction Time:', 92.58500003814697)\n",
      "('fbeta score:', 0.29372197309417042)\n",
      "('recall_score:', 0.891156462585034)\n",
      "('preccion:', 0.079780755176613885)\n"
     ]
    }
   ],
   "source": [
    "# split orginal data into train & test \n",
    "y = data.Class\n",
    "X = data.drop(['Time','Class'], axis=1)\n",
    "\n",
    "X_train_svm, X_test_svm, y_train_svm, y_test_svm =  train_test_split(X, \n",
    "                                                    y, \n",
    "                                                    test_size = 0.3, \n",
    "                                                    random_state = 0)\n",
    "\n",
    "\n",
    "#Initializing Dictionary to store output of classifier metrics\n",
    "results['SVC_CLF'] = {}\n",
    "\n",
    "clf_SV = SVC(kernel='linear', class_weight='balanced')\n",
    "start = time()\n",
    "#Training the Classifier\n",
    "clf_SV.fit(X_train_svm, y_train_svm)\n",
    "end = time()\n",
    "results['SVC_CLF']['train_time'] = end - start\n",
    "\n",
    "\n",
    "start = time()\n",
    "#Predciting the test data\n",
    "y_pred_score_SV = clf_SV.predict(X_test_svm)\n",
    "end = time()\n",
    "results['SVC_CLF']['pred_time'] = end - start\n",
    "\n",
    "results['SVC_CLF']['fbeta'] = fbeta_score(y_test_svm,y_pred_score_SV,beta=2)\n",
    "results['SVC_CLF']['recall'] = recall_score(y_test_svm,y_pred_score_SV)\n",
    "results['SVC_CLF']['precision'] = precision_score(y_test_svm,y_pred_score_SV)\n",
    "\n",
    "print (\"Train Time:\", results['SVC_CLF']['train_time'])\n",
    "print (\"Prediction Time:\", results['SVC_CLF']['pred_time'])\n",
    "print (\"fbeta score:\", results['SVC_CLF']['fbeta'])\n",
    "print('recall_score:', results['SVC_CLF']['recall'] )\n",
    "print('preccion:', results['SVC_CLF']['precision'])\n"
   ]
  },
  {
   "cell_type": "markdown",
   "metadata": {},
   "source": [
    "### 9. Ensembled Cost sensitive Tree Algorithm\n",
    "\n",
    "We know that imbalanced data set can be handled by the Ensemble algorithms, Penalized Algorithms and Tree Algorithms separately.\n",
    "Now, we will combine all these techniques in 1 one algorithm and check the performance. All these 3 techniques can be combined\n",
    "using Random Forest Classifier.\n",
    "\n",
    "We know Random Forest is a ensemble algorithm with decision tree as the base learner. Random Forest has a parameter called \n",
    "'class_weight' parameter, by setting this parameter to ’balanced’, weights inversely proportional to the class sizes \n",
    "are used to multiply the loss function."
   ]
  },
  {
   "cell_type": "code",
   "execution_count": 14,
   "metadata": {},
   "outputs": [
    {
     "name": "stdout",
     "output_type": "stream",
     "text": [
      "('Train Time:', 13.323000192642212)\n",
      "('Prediction Time:', 0.12800002098083496)\n",
      "('fbeta score:', 0.7834757834757835)\n",
      "('recall_score:', 0.74829931972789121)\n",
      "('precision_score:', 0.96491228070175439)\n"
     ]
    }
   ],
   "source": [
    "# split orginal data into train & test \n",
    "X_train_rt, X_test_rt, y_train_rt, y_test_rt = split_data(2)\n",
    "\n",
    "#Initializing Dictionary to store output of classifier metrics\n",
    "results['Random_forest'] = {}\n",
    "\n",
    "clf_RF = RandomForestClassifier(random_state=5, class_weight ='balanced')\n",
    "start = time()\n",
    "#Training the Classifier\n",
    "clf_RF.fit(X_train_rt, y_train_rt)\n",
    "end = time()\n",
    "\n",
    "results['Random_forest']['train_time'] = end - start\n",
    "start = time()\n",
    "# PRedicting the test set\n",
    "y_pred_score_RF = clf_RF.predict(X_test_rt)\n",
    "end = time()\n",
    "results['Random_forest']['pred_time'] = end - start\n",
    "\n",
    "results['Random_forest']['fbeta'] = fbeta_score(y_test_rt,y_pred_score_RF,beta=2)\n",
    "results['Random_forest']['recall'] = recall_score(y_test_rt,y_pred_score_RF)\n",
    "results['Random_forest']['precision'] = precision_score(y_test_rt,y_pred_score_RF)\n",
    "\n",
    "\n",
    "print (\"Train Time:\", results['Random_forest']['train_time'])\n",
    "print (\"Prediction Time:\", results['Random_forest']['pred_time'])\n",
    "print (\"fbeta score:\", results['Random_forest']['fbeta'])\n",
    "print('recall_score:', results['Random_forest']['recall'])\n",
    "print('precision_score:', results['Random_forest']['precision'])"
   ]
  },
  {
   "cell_type": "markdown",
   "metadata": {},
   "source": [
    "### 10. Ensembled Cost sensitive Tree Algorithm\n",
    "\n",
    "One of my friend asked me to check on Gaussian Naive Bayes for handling imbalanced dataset as he was successful with it. "
   ]
  },
  {
   "cell_type": "code",
   "execution_count": 15,
   "metadata": {},
   "outputs": [
    {
     "name": "stdout",
     "output_type": "stream",
     "text": [
      "('Train Time:', 0.1790001392364502)\n",
      "('Prediction Time:', 0.09099984169006348)\n",
      "('fbeta score:', 0.078214421976344914)\n",
      "('recall_score:', 0.83673469387755106)\n",
      "('precision_score:', 0.063763608087091764)\n"
     ]
    }
   ],
   "source": [
    "# split orginal data into train & test \n",
    "from sklearn.naive_bayes import GaussianNB\n",
    "\n",
    "# split orginal data into train & test \n",
    "X_train_gnb, X_test_gnb, y_train_gnb, y_test_gnb = split_data(2)\n",
    "\n",
    "#Initializing Dictionary to store output of classifier metrics\n",
    "results['GNB'] = {}\n",
    "\n",
    "start = time()\n",
    "\n",
    "# Training the classifier\n",
    "clf_gnb = GaussianNB().fit(X_train_gnb, y_train_gnb)\n",
    "end = time()\n",
    "results['GNB']['train_time'] = end - start\n",
    "\n",
    "\n",
    "# Predict on training set\n",
    "start = time()\n",
    "y_pred_score_gnb = clf_gnb.predict(X_test_gnb)\n",
    "end = time()\n",
    "\n",
    "results['GNB']['pred_time'] = end - start\n",
    "\n",
    "\n",
    "results['GNB']['fbeta'] = fbeta_score(y_test_gnb,y_pred_score_gnb,beta=0.5)\n",
    "results['GNB']['recall'] = recall_score(y_test_gnb,y_pred_score_gnb)\n",
    "results['GNB']['precision'] = precision_score(y_test_gnb,y_pred_score_gnb)\n",
    "\n",
    "print (\"Train Time:\", results['GNB']['train_time'])\n",
    "print (\"Prediction Time:\", results['GNB']['pred_time'])\n",
    "print (\"fbeta score:\", results['GNB']['fbeta'])\n",
    "print('recall_score:', results['GNB']['recall'])\n",
    "print('precision_score:', results['GNB']['precision'])"
   ]
  },
  {
   "cell_type": "markdown",
   "metadata": {},
   "source": [
    "### 11. Performance Analysis of the Classifiers\n",
    "\n",
    "Now its time to analyze the performance metrics of all the classifiers implemented above.\n"
   ]
  },
  {
   "cell_type": "markdown",
   "metadata": {},
   "source": [
    "#### 11.1 Summarize the performance \n",
    "\n",
    "The summary of the performance metrics is given in the table below\n"
   ]
  },
  {
   "cell_type": "code",
   "execution_count": 16,
   "metadata": {},
   "outputs": [
    {
     "data": {
      "text/html": [
       "<div>\n",
       "<style>\n",
       "    .dataframe thead tr:only-child th {\n",
       "        text-align: right;\n",
       "    }\n",
       "\n",
       "    .dataframe thead th {\n",
       "        text-align: left;\n",
       "    }\n",
       "\n",
       "    .dataframe tbody tr th {\n",
       "        vertical-align: top;\n",
       "    }\n",
       "</style>\n",
       "<table border=\"1\" class=\"dataframe\">\n",
       "  <thead>\n",
       "    <tr style=\"text-align: right;\">\n",
       "      <th></th>\n",
       "      <th>Decision_Tree</th>\n",
       "      <th>GNB</th>\n",
       "      <th>NearMiss</th>\n",
       "      <th>Random_forest</th>\n",
       "      <th>SMOTE</th>\n",
       "      <th>SVC_CLF</th>\n",
       "      <th>oversampled</th>\n",
       "      <th>undersampled</th>\n",
       "    </tr>\n",
       "  </thead>\n",
       "  <tbody>\n",
       "    <tr>\n",
       "      <th>fbeta</th>\n",
       "      <td>0.773481</td>\n",
       "      <td>0.078214</td>\n",
       "      <td>0.918508</td>\n",
       "      <td>0.783476</td>\n",
       "      <td>0.925513</td>\n",
       "      <td>0.293722</td>\n",
       "      <td>0.926651</td>\n",
       "      <td>0.904762</td>\n",
       "    </tr>\n",
       "    <tr>\n",
       "      <th>precision</th>\n",
       "      <td>0.823529</td>\n",
       "      <td>0.063764</td>\n",
       "      <td>0.977941</td>\n",
       "      <td>0.964912</td>\n",
       "      <td>0.972714</td>\n",
       "      <td>0.079781</td>\n",
       "      <td>0.975387</td>\n",
       "      <td>0.956835</td>\n",
       "    </tr>\n",
       "    <tr>\n",
       "      <th>pred_time</th>\n",
       "      <td>0.024000</td>\n",
       "      <td>0.091000</td>\n",
       "      <td>0.000000</td>\n",
       "      <td>0.128000</td>\n",
       "      <td>0.013000</td>\n",
       "      <td>92.585000</td>\n",
       "      <td>0.021000</td>\n",
       "      <td>0.000000</td>\n",
       "    </tr>\n",
       "    <tr>\n",
       "      <th>recall</th>\n",
       "      <td>0.761905</td>\n",
       "      <td>0.836735</td>\n",
       "      <td>0.904762</td>\n",
       "      <td>0.748299</td>\n",
       "      <td>0.914420</td>\n",
       "      <td>0.891156</td>\n",
       "      <td>0.915218</td>\n",
       "      <td>0.892617</td>\n",
       "    </tr>\n",
       "    <tr>\n",
       "      <th>resample_time</th>\n",
       "      <td>NaN</td>\n",
       "      <td>NaN</td>\n",
       "      <td>12.031000</td>\n",
       "      <td>NaN</td>\n",
       "      <td>6.099000</td>\n",
       "      <td>NaN</td>\n",
       "      <td>NaN</td>\n",
       "      <td>NaN</td>\n",
       "    </tr>\n",
       "    <tr>\n",
       "      <th>train_time</th>\n",
       "      <td>18.293000</td>\n",
       "      <td>0.179000</td>\n",
       "      <td>0.009000</td>\n",
       "      <td>13.323000</td>\n",
       "      <td>5.976000</td>\n",
       "      <td>4551.336000</td>\n",
       "      <td>6.871000</td>\n",
       "      <td>0.008000</td>\n",
       "    </tr>\n",
       "  </tbody>\n",
       "</table>\n",
       "</div>"
      ],
      "text/plain": [
       "               Decision_Tree       GNB   NearMiss  Random_forest     SMOTE  \\\n",
       "fbeta               0.773481  0.078214   0.918508       0.783476  0.925513   \n",
       "precision           0.823529  0.063764   0.977941       0.964912  0.972714   \n",
       "pred_time           0.024000  0.091000   0.000000       0.128000  0.013000   \n",
       "recall              0.761905  0.836735   0.904762       0.748299  0.914420   \n",
       "resample_time            NaN       NaN  12.031000            NaN  6.099000   \n",
       "train_time         18.293000  0.179000   0.009000      13.323000  5.976000   \n",
       "\n",
       "                   SVC_CLF  oversampled  undersampled  \n",
       "fbeta             0.293722     0.926651      0.904762  \n",
       "precision         0.079781     0.975387      0.956835  \n",
       "pred_time        92.585000     0.021000      0.000000  \n",
       "recall            0.891156     0.915218      0.892617  \n",
       "resample_time          NaN          NaN           NaN  \n",
       "train_time     4551.336000     6.871000      0.008000  "
      ]
     },
     "metadata": {},
     "output_type": "display_data"
    }
   ],
   "source": [
    "results_df = pd.DataFrame(results)  \n",
    "display(results_df)\n",
    "#print \"Columns are \", results_df.columns"
   ]
  },
  {
   "cell_type": "markdown",
   "metadata": {},
   "source": [
    "#### 11.2 Visualizing the performance of classifiers\n",
    "\n",
    "We will visualize performance time of the classifiers seperately with that of other metrics such as fbeta_score,recall_score and precision_score as we measure time in seconds and score values between 0 to 1. \n"
   ]
  },
  {
   "cell_type": "code",
   "execution_count": 17,
   "metadata": {},
   "outputs": [
    {
     "data": {
      "image/png": "[encoded data removed]",
      "text/plain": [
       "<matplotlib.figure.Figure at 0x4cccf2e8>"
      ]
     },
     "metadata": {},
     "output_type": "display_data"
    }
   ],
   "source": [
    "train_time = [results['undersampled']['train_time'],results['oversampled']['train_time'], results['SMOTE']['train_time'],\n",
    "              results['NearMiss']['train_time'], results['Decision_Tree']['train_time'], results['SVC_CLF']['train_time'],\n",
    "              results['Random_forest']['train_time'], results['GNB']['train_time']]\n",
    "pred_time = [results['undersampled']['pred_time'],results['oversampled']['pred_time'], results['SMOTE']['pred_time'],\n",
    "              results['NearMiss']['pred_time'], results['Decision_Tree']['pred_time'], results['SVC_CLF']['pred_time'],\n",
    "              results['Random_forest']['pred_time'], results['GNB']['pred_time']]\n",
    "\n",
    "N = 8\n",
    "width = 0.25       # the width of the bars\n",
    "\n",
    "fig, ax = plt.subplots(figsize=(15,12))\n",
    "\n",
    "ind = np.arange(N)\n",
    "    \n",
    "plt.bar(ind, train_time, width, label='train_time', color='#33FF7D')\n",
    "plt.bar(ind + width, pred_time, width, label='pred_time', color='#FFAC33')\n",
    "\n",
    "\n",
    "plt.ylim(0, 25)\n",
    "plt.ylabel('Time in (Seconds)', fontsize = 20)\n",
    "plt.xlabel('Classifiers', fontsize = 20)\n",
    "plt.title('Time Comparison of the Models', fontsize = 25)\n",
    "\n",
    "plt.xticks(ind + width, ('Undersampled', 'Oversampled', 'SMOTE', 'NearMiss', 'Decision Tree', 'Penalized_SVM', 'Random Forest',\n",
    "                        'Gaussian Naive Bayes'))\n",
    "plt.legend(loc='best', fontsize = 16 )\n",
    "plt.show()"
   ]
  },
  {
   "cell_type": "code",
   "execution_count": 18,
   "metadata": {},
   "outputs": [
    {
     "data": {
      "image/png": "[encoded data removed]",
      "text/plain": [
       "<matplotlib.figure.Figure at 0x4a40b0b8>"
      ]
     },
     "metadata": {},
     "output_type": "display_data"
    }
   ],
   "source": [
    "fbeta = [results['undersampled']['fbeta'],results['oversampled']['fbeta'], results['SMOTE']['fbeta'],\n",
    "              results['NearMiss']['fbeta'], results['Decision_Tree']['fbeta'], results['SVC_CLF']['fbeta'],\n",
    "              results['Random_forest']['fbeta'], results['GNB']['fbeta']]\n",
    "recall = [results['undersampled']['recall'],results['oversampled']['recall'], results['SMOTE']['recall'],\n",
    "              results['NearMiss']['recall'], results['Decision_Tree']['recall'], results['SVC_CLF']['recall'],\n",
    "              results['Random_forest']['recall'], results['GNB']['recall']]\n",
    "    \n",
    "    \n",
    "precision= [results['undersampled']['precision'],results['oversampled']['precision'], results['SMOTE']['precision'],\n",
    "              results['NearMiss']['precision'], results['Decision_Tree']['precision'], results['SVC_CLF']['precision'],\n",
    "              results['Random_forest']['precision'], results['GNB']['precision']]\n",
    "    \n",
    "\n",
    "N = 8\n",
    "width = 0.25       # the width of the bars\n",
    "\n",
    "\n",
    "fig, ax = plt.subplots(figsize=(15,12))\n",
    "\n",
    "\n",
    "ind = np.arange(N)\n",
    "\n",
    "\n",
    "      \n",
    "\n",
    "plt.bar(ind , fbeta, width, label='fbeta', color='#33C4FF')\n",
    "plt.bar(ind + width, recall, width, label='recall', color='#FF5733')\n",
    "plt.bar(ind + width*2, precision, width, label='precision', color='#FFE333')\n",
    "plt.ylim(0, 1 )\n",
    "plt.ylabel('Scores', fontsize = 20)\n",
    "plt.xlabel('Classifiers', fontsize = 20)\n",
    "plt.title('Metrics Comparison of the Models', fontsize = 25)\n",
    "\n",
    "plt.xticks(ind + width, ('Undersampled', 'Oversampled', 'SMOTE', 'NearMiss', 'Decision Tree', 'Penalized_SVM', 'Random Forest',\n",
    "                        'Gaussian Naive Bayes'))\n",
    "plt.legend(loc='best', fontsize = 16 )\n",
    "plt.show()"
   ]
  },
  {
   "cell_type": "markdown",
   "metadata": {},
   "source": [
    "### 12. Choosing the Best Classifier\n",
    "\n",
    "We will now choose the best classifier using the figures above. We will choose the top 4 classifiers by ranking them from 1 to 4 \n",
    "with rank 1 being best .\n",
    "\n",
    "1] Time : We will first rank the classifiers based on their training time and prediction time. \n",
    "\n",
    "    Rank 1 : Undersampled\n",
    "    \n",
    "    Rank 2 : Gaussian Naive Bayes\n",
    "    \n",
    "    Rank 3 : NearMiss\n",
    "    \n",
    "    Rank 4 : SMOTE\n",
    "    \n",
    "    \n",
    "2] Metrics : We will now rank the classifiers based on their fbeta_score, prediction_score and recall_score with recall score given the highest priority\n",
    "\n",
    "    Rank 1 : SMOTE\n",
    "    \n",
    "    Rank 2 : Oversampled\n",
    "    \n",
    "    Rank 3 : NearMiss\n",
    "    \n",
    "    Rank 4 : Undesampled\n",
    "    \n",
    "  \n",
    "Now, of the 2 comparisons made above, we have to given more importance to the metrics than time, becuase at the end classifier \n",
    "with best accuracy is needed  and a little trade-off in the time is acceptible.\n",
    "\n",
    "So, with that we choose the classfiers with SMOTE and NearMiss as the best models they have best metrics with not much delay in\n",
    "training and testing time.\n",
    "\n",
    "Now, we have to choose the best classifier among these 2. For, that we use the resampling time taken by them, i.e., the time taken by SMOTE to oversample the data and the time taken by the NearMiss to undersample the data. \n",
    "\n",
    "The comparison chart is given below\n"
   ]
  },
  {
   "cell_type": "code",
   "execution_count": 19,
   "metadata": {},
   "outputs": [
    {
     "data": {
      "image/png": "[encoded data removed]",
      "text/plain": [
       "<matplotlib.figure.Figure at 0xd7cdeb8>"
      ]
     },
     "metadata": {},
     "output_type": "display_data"
    }
   ],
   "source": [
    "resample_time = [results['SMOTE']['resample_time'],results['NearMiss']['resample_time']]\n",
    "\n",
    "N = 2\n",
    "\n",
    "fig, ax = plt.subplots(figsize=(5,5))\n",
    "\n",
    "ind = np.arange(N)\n",
    "    \n",
    "plt.bar(ind, resample_time, width, label='resample_time', color='#33FF7D')\n",
    "\n",
    "plt.ylim(0, 25)\n",
    "plt.ylabel('Time in (Seconds)', fontsize = 20)\n",
    "plt.xlabel('Classifiers', fontsize = 20)\n",
    "\n",
    "plt.xticks(ind + width, ('SMOTE', 'NearMiss'))\n",
    "plt.show()"
   ]
  },
  {
   "cell_type": "markdown",
   "metadata": {},
   "source": [
    "#### From the above chart we can conclude that classifier that uses SMOTE has a better performance compared to the rest of the classifiers. "
   ]
  },
  {
   "cell_type": "markdown",
   "metadata": {
    "collapsed": true
   },
   "source": [
    "### 13. Optimizing the Best Classifier\n"
   ]
  },
  {
   "cell_type": "code",
   "execution_count": 21,
   "metadata": {},
   "outputs": [
    {
     "name": "stdout",
     "output_type": "stream",
     "text": [
      "Optimzed Classfieris  LogisticRegression(C=5, class_weight=None, dual=False, fit_intercept=True,\n",
      "          intercept_scaling=1, max_iter=100, multi_class='ovr', n_jobs=1,\n",
      "          penalty='l2', random_state=None, solver='liblinear', tol=0.0001,\n",
      "          verbose=0, warm_start=False)\n",
      "F-score after optimizing: 0.925501106724\n",
      "Recall-score after optimizing: 0.914408138895\n",
      "Precision-score after optimizing: 0.972701686219\n"
     ]
    }
   ],
   "source": [
    "#X_train_opt, X_test_opt, y_train_opt, y_test_dt = split_data(2)\n",
    "\n",
    "#parameters list you wish to tune\n",
    "parameters = { 'C' : [0.001, 0.1, 0.25, 0.55, 0.72, 0.85, 2, 5, 7, 9, 20, 30, 40, 60, 70, 90, 100] }\n",
    "\n",
    "# Make an fbeta_score scoring object\n",
    "scorer = make_scorer(fbeta_score,beta=2)\n",
    "\n",
    "# Perform grid search on the classifier using 'scorer' as the scoring method\n",
    "grid_obj = GridSearchCV(clf_smote,parameters,scoring=scorer)\n",
    "\n",
    "# TODO: Fit the grid search object to the training data and find the optimal parameters\n",
    "grid_fit = grid_obj.fit(X_train_sm,y_train_sm)\n",
    "\n",
    "# Get the estimator\n",
    "best_clf = grid_fit.best_estimator_\n",
    "print \"Optimzed Classfieris \", best_clf\n",
    "# Make predictions \n",
    "opt_classifier_score = best_clf.predict(X_test_sm)\n",
    "\n",
    "print \"F-score after optimizing:\", fbeta_score(y_test_sm, opt_classifier_score, beta =2)\n",
    "print \"Recall-score after optimizing:\", recall_score(y_test_sm, opt_classifier_score)\n",
    "print \"Precision-score after optimizing:\", precision_score(y_test_sm, opt_classifier_score)\n",
    "\n",
    "\n",
    "#y_pred_score_sm = clf_smote.predict(X_test_sm)\n",
    "\n",
    "\n",
    "y_pred_prb_final = best_clf.predict_proba(X_test_sm)[:,1]"
   ]
  },
  {
   "cell_type": "markdown",
   "metadata": {},
   "source": [
    "From we can that model has very high recall score and precision score, high scores for both show that the classifier is returning accurate results (high precision), as well as returning a majority of all positive results (high recall). An ideal system with high precision and high recall will return many results, with all results labeled correctly."
   ]
  },
  {
   "cell_type": "markdown",
   "metadata": {},
   "source": [
    "### 14. AUC-PR Curve\n",
    "\n",
    "The precision-recall curve shows the tradeoff between precision and recall for different threshold. Average precision summarizes such a plot as the weighted mean of precisions achieved at each threshold, with the increase in recall from the previous threshold used as the weight. "
   ]
  },
  {
   "cell_type": "code",
   "execution_count": 22,
   "metadata": {},
   "outputs": [
    {
     "name": "stdout",
     "output_type": "stream",
     "text": [
      "Average precision-recall score: 0.96\n"
     ]
    },
    {
     "data": {
      "image/png": "[encoded data removed]",
      "text/plain": [
       "<matplotlib.figure.Figure at 0xd7b0080>"
      ]
     },
     "metadata": {},
     "output_type": "display_data"
    }
   ],
   "source": [
    "average_precision = average_precision_score(y_test_sm, opt_classifier_score)\n",
    "\n",
    "print('Average precision-recall score: {0:0.2f}'.format(average_precision))\n",
    "\n",
    "precision, recall, thresholds = precision_recall_curve(y_test_sm, opt_classifier_score)\n",
    "\n",
    "plt.step(recall, precision, color='b', alpha=0.2,\n",
    "         where='post')\n",
    "plt.fill_between(recall, precision, step='post', alpha=0.2,\n",
    "                 color='b')\n",
    "\n",
    "plt.xlabel('Recall')\n",
    "plt.ylabel('Precision')\n",
    "plt.ylim([0.0, 1.05])\n",
    "plt.xlim([0.0, 1.0])\n",
    "plt.title('2-class Precision-Recall curve: AUC={0:0.2f}'.format(average_precision))\n",
    "thresholds = np.append(thresholds, 1)\n",
    "\n"
   ]
  },
  {
   "cell_type": "markdown",
   "metadata": {},
   "source": [
    "We got 96% of area for AUC-PR curve, A high area under the curve represents both high recall and high precision, where high precision relates to a low false positive rate, and high recall relates to a low false negative rate. \n",
    "\n",
    "High scores for both show that the classifier is returning accurate results (high precision), as well as returning a majority of all positive results (high recall). An ideal system with high precision and high recall will return many results, with all results labeled correctly. So, the model will predict high number fraudulent transaction with very high precision."
   ]
  },
  {
   "cell_type": "markdown",
   "metadata": {},
   "source": [
    "### 15. Finding the best threshold for the classifier"
   ]
  },
  {
   "cell_type": "code",
   "execution_count": 23,
   "metadata": {
    "scrolled": true
   },
   "outputs": [
    {
     "data": {
      "text/plain": [
       "<matplotlib.text.Text at 0x4cf402e8>"
      ]
     },
     "execution_count": 23,
     "metadata": {},
     "output_type": "execute_result"
    },
    {
     "data": {
      "image/png": "[encoded data removed]",
      "text/plain": [
       "<matplotlib.figure.Figure at 0x720abb70>"
      ]
     },
     "metadata": {},
     "output_type": "display_data"
    }
   ],
   "source": [
    "plt.plot(thresholds, precision, color=sns.color_palette()[0])  \n",
    "plt.plot(thresholds, recall, color=sns.color_palette()[1])  \n",
    "\n",
    "leg = plt.legend(('precision', 'recall'), frameon=True)  \n",
    "leg.get_frame().set_edgecolor('k')  \n",
    "plt.xlabel('threshold')  \n",
    "plt.ylabel('%')"
   ]
  },
  {
   "cell_type": "markdown",
   "metadata": {},
   "source": [
    "From above figure, we can conclude that the best threshold for the classifier is around 0.85."
   ]
  }
 ],
 "metadata": {
  "kernelspec": {
   "display_name": "Python 2",
   "language": "python",
   "name": "python2"
  },
  "language_info": {
   "codemirror_mode": {
    "name": "ipython",
    "version": 2
   },
   "file_extension": ".py",
   "mimetype": "text/x-python",
   "name": "python",
   "nbconvert_exporter": "python",
   "pygments_lexer": "ipython2",
   "version": "2.7.13"
  }
 },
 "nbformat": 4,
 "nbformat_minor": 2
}
