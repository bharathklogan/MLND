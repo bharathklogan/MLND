{
 "cells": [
  {
   "cell_type": "markdown",
   "metadata": {
    "collapsed": true
   },
   "source": [
    "# Image Classification\n",
    "In this project, you'll classify images from the [CIFAR-10 dataset](https://www.cs.toronto.edu/~kriz/cifar.html).  The dataset consists of airplanes, dogs, cats, and other objects. You'll preprocess the images, then train a convolutional neural network on all the samples. The images need to be normalized and the labels need to be one-hot encoded.  You'll get to apply what you learned and build a convolutional, max pooling, dropout, and fully connected layers.  At the end, you'll get to see your neural network's predictions on the sample images.\n",
    "## Get the Data\n",
    "Run the following cell to download the [CIFAR-10 dataset for python](https://www.cs.toronto.edu/~kriz/cifar-10-python.tar.gz)."
   ]
  },
  {
   "cell_type": "code",
   "execution_count": 3,
   "metadata": {},
   "outputs": [
    {
     "name": "stdout",
     "output_type": "stream",
     "text": [
      "All files found!\n"
     ]
    }
   ],
   "source": [
    "\"\"\"\n",
    "DON'T MODIFY ANYTHING IN THIS CELL THAT IS BELOW THIS LINE\n",
    "\"\"\"\n",
    "from urllib.request import urlretrieve\n",
    "from os.path import isfile, isdir\n",
    "from tqdm import tqdm\n",
    "import problem_unittests as tests\n",
    "import tarfile\n",
    "\n",
    "cifar10_dataset_folder_path = 'cifar-10-batches-py'\n",
    "\n",
    "class DLProgress(tqdm):\n",
    "    last_block = 0\n",
    "\n",
    "    def hook(self, block_num=1, block_size=1, total_size=None):\n",
    "        self.total = total_size\n",
    "        self.update((block_num - self.last_block) * block_size)\n",
    "        self.last_block = block_num\n",
    "\n",
    "if not isfile('cifar-10-python.tar.gz'):\n",
    "    with DLProgress(unit='B', unit_scale=True, miniters=1, desc='CIFAR-10 Dataset') as pbar:\n",
    "        urlretrieve(\n",
    "            'https://www.cs.toronto.edu/~kriz/cifar-10-python.tar.gz',\n",
    "            'cifar-10-python.tar.gz',\n",
    "            pbar.hook)\n",
    "\n",
    "if not isdir(cifar10_dataset_folder_path):\n",
    "    with tarfile.open('cifar-10-python.tar.gz') as tar:\n",
    "        tar.extractall()\n",
    "        tar.close()\n",
    "\n",
    "\n",
    "tests.test_folder_path(cifar10_dataset_folder_path)"
   ]
  },
  {
   "cell_type": "markdown",
   "metadata": {},
   "source": [
    "## Explore the Data\n",
    "The dataset is broken into batches to prevent your machine from running out of memory.  The CIFAR-10 dataset consists of 5 batches, named `data_batch_1`, `data_batch_2`, etc.. Each batch contains the labels and images that are one of the following:\n",
    "* airplane\n",
    "* automobile\n",
    "* bird\n",
    "* cat\n",
    "* deer\n",
    "* dog\n",
    "* frog\n",
    "* horse\n",
    "* ship\n",
    "* truck\n",
    "\n",
    "Understanding a dataset is part of making predictions on the data.  Play around with the code cell below by changing the `batch_id` and `sample_id`. The `batch_id` is the id for a batch (1-5). The `sample_id` is the id for a image and label pair in the batch.\n",
    "\n",
    "Ask yourself \"What are all possible labels?\", \"What is the range of values for the image data?\", \"Are the labels in order or random?\".  Answers to questions like these will help you preprocess the data and end up with better predictions."
   ]
  },
  {
   "cell_type": "code",
   "execution_count": 5,
   "metadata": {},
   "outputs": [
    {
     "name": "stdout",
     "output_type": "stream",
     "text": [
      "Keys available are dict_keys(['labels', 'data', 'batch_label', 'filenames'])\n",
      "Type of the data <class 'numpy.ndarray'>\n",
      "Type of the label <class 'list'>\n",
      "Type of the batch_label <class 'str'>\n",
      "Type of the filenames <class 'str'>\n",
      "Each row value of data (10000, 3072)\n",
      "Each row value of label 10000\n",
      "Each row value of batch_label 21\n",
      "Each row value of filenames 10000\n",
      "Value of first row for 'data' is 3072\n",
      "Shape of features before transpose (10000, 3, 32, 32)\n",
      "Shape of features After transpose (10000, 32, 32, 3)\n",
      "Shape of features of my implementation (10000, 32, 32, 3)\n",
      "\n",
      "Stats of batch 1:\n",
      "Samples: 10000\n",
      "Label Counts: {0: 1005, 1: 974, 2: 1032, 3: 1016, 4: 999, 5: 937, 6: 1030, 7: 1001, 8: 1025, 9: 981}\n",
      "First 20 Labels: [6, 9, 9, 4, 1, 1, 2, 7, 8, 3, 4, 7, 7, 2, 9, 9, 9, 3, 2, 6]\n",
      "\n",
      "Example of Image 5:\n",
      "Image - Min Value: 0 Max Value: 252\n",
      "Image - Shape: (32, 32, 3)\n",
      "Label - Label Id: 1 Name: automobile\n"
     ]
    },
    {
     "data": {
      "image/png": "[encoded data removed]",
      "text/plain": [
       "<matplotlib.figure.Figure at 0xbaf26a0>"
      ]
     },
     "metadata": {
      "image/png": {
       "height": 250,
       "width": 253
      }
     },
     "output_type": "display_data"
    }
   ],
   "source": [
    "%matplotlib inline\n",
    "%config InlineBackend.figure_format = 'retina'\n",
    "\n",
    "import helper\n",
    "import numpy as np\n",
    "import pickle\n",
    "\n",
    "# Explore the dataset\n",
    "batch_id = 1\n",
    "\n",
    "with open(cifar10_dataset_folder_path + '/data_batch_' + str(batch_id), mode='rb') as file:\n",
    "    batch = pickle.load(file, encoding='latin1')\n",
    "    \n",
    "    #print(\"features before reshaping\", features.shape)\n",
    "    #print(\"Type of batch\",type(batch))\n",
    "    print(\"Keys available are\", batch.keys())\n",
    "    \n",
    "    print(\"Type of the data\",type(batch['data']))\n",
    "    print(\"Type of the label\",type(batch['labels']))\n",
    "    print(\"Type of the batch_label\",type(batch['batch_label']))\n",
    "    print(\"Type of the filenames\",type(batch['batch_label']))                                            \n",
    "    \n",
    "                                                \n",
    "    print(\"Each row value of data\",batch['data'].shape)\n",
    "    print(\"Each row value of label\",len(batch['labels']))\n",
    "    print(\"Each row value of batch_label\",len(batch['batch_label']))\n",
    "    print(\"Each row value of filenames\",len(batch['filenames']))                                            \n",
    "    \n",
    "      \n",
    "    b1 = batch['data'][0]\n",
    "    print(\"Value of first row for 'data' is\", b1.size)\n",
    "    #for i,x in np.ndenumerate(b1):\n",
    "    #    print(\"Row values are : \", i, x)\n",
    "    #print(\"Value of first row for 'label' is\", batch['labels'][0])\n",
    "    \n",
    "    \n",
    "    features_before_transpose = batch['data'].reshape((len(batch['data']), 3, 32, 32))\n",
    "    print(\"Shape of features before transpose\", features_before_transpose.shape)\n",
    "    #features_before_transpose_1 = features_before_transpose[0]\n",
    "    #for i,x in np.ndenumerate(features_before_transpose_1):\n",
    "    #    print(\"Row values are : \", i, x)\n",
    "    \n",
    "      \n",
    "    features_after_transpose = batch['data'].reshape((len(batch['data']), 3, 32, 32)).transpose(0, 2, 3, 1)\n",
    "    print(\"Shape of features After transpose\", features_after_transpose.shape)\n",
    "    #features_before_transpose_1 = features_after_transpose[0]\n",
    "    #for i,x in np.ndenumerate(features_before_transpose_1):\n",
    "    #    print(\"Row values are : \", i, x)\n",
    "    \n",
    "    \n",
    "    my_features = batch['data'].reshape((len(batch['data']), 32, 32, 3))\n",
    "    print(\"Shape of features of my implementation\", my_features.shape)\n",
    "    #my_features_1 = my_features[0]\n",
    "    #for i,x in np.ndenumerate(my_features_1):\n",
    "    #print(\"Row values are : \", i, x)\n",
    "    \n",
    "    \n",
    "sample_id = 5\n",
    "helper.display_stats(cifar10_dataset_folder_path, batch_id, sample_id)"
   ]
  },
  {
   "cell_type": "markdown",
   "metadata": {},
   "source": [
    "## Implement Preprocess Functions\n",
    "### Normalize\n",
    "In the cell below, implement the `normalize` function to take in image data, `x`, and return it as a normalized Numpy array. The values should be in the range of 0 to 1, inclusive.  The return object should be the same shape as `x`."
   ]
  },
  {
   "cell_type": "code",
   "execution_count": 6,
   "metadata": {},
   "outputs": [
    {
     "name": "stdout",
     "output_type": "stream",
     "text": [
      "Tests Passed\n"
     ]
    }
   ],
   "source": [
    "def normalize(x):\n",
    "    \"\"\"\n",
    "    Normalize a list of sample image data in the range of 0 to 1\n",
    "    : x: List of image data.  The image shape is (32, 32, 3)\n",
    "    : return: Numpy array of normalize data\n",
    "    \"\"\"\n",
    "    # TODO: Implement Function\n",
    "    return x / 255\n",
    "\n",
    "\n",
    "\"\"\"\n",
    "DON'T MODIFY ANYTHING IN THIS CELL THAT IS BELOW THIS LINE\n",
    "\"\"\"\n",
    "tests.test_normalize(normalize)"
   ]
  },
  {
   "cell_type": "markdown",
   "metadata": {},
   "source": [
    "### One-hot encode\n",
    "Just like the previous code cell, you'll be implementing a function for preprocessing.  This time, you'll implement the `one_hot_encode` function. The input, `x`, are a list of labels.  Implement the function to return the list of labels as One-Hot encoded Numpy array.  The possible values for labels are 0 to 9. The one-hot encoding function should return the same encoding for each value between each call to `one_hot_encode`.  Make sure to save the map of encodings outside the function.\n",
    "\n",
    "**Hint:**\n",
    "\n",
    "Look into LabelBinarizer in the preprocessing module of sklearn."
   ]
  },
  {
   "cell_type": "code",
   "execution_count": 7,
   "metadata": {},
   "outputs": [
    {
     "name": "stdout",
     "output_type": "stream",
     "text": [
      "Tests Passed\n"
     ]
    }
   ],
   "source": [
    "from sklearn import preprocessing \n",
    "\n",
    "def one_hot_encode(x):\n",
    "    \"\"\"\n",
    "    One hot encode a list of sample labels. Return a one-hot encoded vector for each label.\n",
    "    : x: List of sample Labels\n",
    "    : return: Numpy array of one-hot encoded labels\n",
    "    \"\"\"\n",
    "    # TODO: Implement Function\n",
    "    lb = preprocessing.LabelBinarizer()\n",
    "    lb.fit([0, 1, 2, 3, 4, 5, 6, 7, 8, 9])\n",
    "\n",
    "    return lb.transform(x)\n",
    "    \n",
    "\"\"\"\n",
    "DON'T MODIFY ANYTHING IN THIS CELL THAT IS BELOW THIS LINE\n",
    "\"\"\"\n",
    "tests.test_one_hot_encode(one_hot_encode)"
   ]
  },
  {
   "cell_type": "markdown",
   "metadata": {},
   "source": [
    "### Randomize Data\n",
    "As you saw from exploring the data above, the order of the samples are randomized.  It doesn't hurt to randomize it again, but you don't need to for this dataset."
   ]
  },
  {
   "cell_type": "markdown",
   "metadata": {},
   "source": [
    "## Preprocess all the data and save it\n",
    "Running the code cell below will preprocess all the CIFAR-10 data and save it to file. The code below also uses 10% of the training data for validation."
   ]
  },
  {
   "cell_type": "code",
   "execution_count": 8,
   "metadata": {},
   "outputs": [],
   "source": [
    "\"\"\"\n",
    "DON'T MODIFY ANYTHING IN THIS CELL\n",
    "\"\"\"\n",
    "# Preprocess Training, Validation, and Testing Data\n",
    "helper.preprocess_and_save_data(cifar10_dataset_folder_path, normalize, one_hot_encode)"
   ]
  },
  {
   "cell_type": "markdown",
   "metadata": {},
   "source": [
    "# Check Point\n",
    "This is your first checkpoint.  If you ever decide to come back to this notebook or have to restart the notebook, you can start from here.  The preprocessed data has been saved to disk."
   ]
  },
  {
   "cell_type": "code",
   "execution_count": 9,
   "metadata": {
    "collapsed": true
   },
   "outputs": [],
   "source": [
    "\"\"\"\n",
    "DON'T MODIFY ANYTHING IN THIS CELL\n",
    "\"\"\"\n",
    "import pickle\n",
    "import problem_unittests as tests\n",
    "import helper\n",
    "\n",
    "# Load the Preprocessed Validation data\n",
    "valid_features, valid_labels = pickle.load(open('preprocess_validation.p', mode='rb'))"
   ]
  },
  {
   "cell_type": "markdown",
   "metadata": {},
   "source": [
    "## Build the network\n",
    "For the neural network, you'll build each layer into a function.  Most of the code you've seen has been outside of functions. To test your code more thoroughly, we require that you put each layer in a function.  This allows us to give you better feedback and test for simple mistakes using our unittests before you submit your project.\n",
    "\n",
    ">**Note:** If you're finding it hard to dedicate enough time for this course each week, we've provided a small shortcut to this part of the project. In the next couple of problems, you'll have the option to use classes from the [TensorFlow Layers](https://www.tensorflow.org/api_docs/python/tf/layers) or [TensorFlow Layers (contrib)](https://www.tensorflow.org/api_guides/python/contrib.layers) packages to build each layer, except the layers you build in the \"Convolutional and Max Pooling Layer\" section.  TF Layers is similar to Keras's and TFLearn's abstraction to layers, so it's easy to pickup.\n",
    "\n",
    ">However, if you would like to get the most out of this course, try to solve all the problems _without_ using anything from the TF Layers packages. You **can** still use classes from other packages that happen to have the same name as ones you find in TF Layers! For example, instead of using the TF Layers version of the `conv2d` class, [tf.layers.conv2d](https://www.tensorflow.org/api_docs/python/tf/layers/conv2d), you would want to use the TF Neural Network version of `conv2d`, [tf.nn.conv2d](https://www.tensorflow.org/api_docs/python/tf/nn/conv2d). \n",
    "\n",
    "Let's begin!\n",
    "\n",
    "### Input\n",
    "The neural network needs to read the image data, one-hot encoded labels, and dropout keep probability. Implement the following functions\n",
    "* Implement `neural_net_image_input`\n",
    " * Return a [TF Placeholder](https://www.tensorflow.org/api_docs/python/tf/placeholder)\n",
    " * Set the shape using `image_shape` with batch size set to `None`.\n",
    " * Name the TensorFlow placeholder \"x\" using the TensorFlow `name` parameter in the [TF Placeholder](https://www.tensorflow.org/api_docs/python/tf/placeholder).\n",
    "* Implement `neural_net_label_input`\n",
    " * Return a [TF Placeholder](https://www.tensorflow.org/api_docs/python/tf/placeholder)\n",
    " * Set the shape using `n_classes` with batch size set to `None`.\n",
    " * Name the TensorFlow placeholder \"y\" using the TensorFlow `name` parameter in the [TF Placeholder](https://www.tensorflow.org/api_docs/python/tf/placeholder).\n",
    "* Implement `neural_net_keep_prob_input`\n",
    " * Return a [TF Placeholder](https://www.tensorflow.org/api_docs/python/tf/placeholder) for dropout keep probability.\n",
    " * Name the TensorFlow placeholder \"keep_prob\" using the TensorFlow `name` parameter in the [TF Placeholder](https://www.tensorflow.org/api_docs/python/tf/placeholder).\n",
    "\n",
    "These names will be used at the end of the project to load your saved model.\n",
    "\n",
    "Note: `None` for shapes in TensorFlow allow for a dynamic size."
   ]
  },
  {
   "cell_type": "code",
   "execution_count": 10,
   "metadata": {},
   "outputs": [
    {
     "name": "stdout",
     "output_type": "stream",
     "text": [
      "Image Input Tests Passed.\n",
      "Label Input Tests Passed.\n",
      "Keep Prob Tests Passed.\n"
     ]
    }
   ],
   "source": [
    "import tensorflow as tf\n",
    "\n",
    "def neural_net_image_input(image_shape):\n",
    "    \"\"\"\n",
    "    Return a Tensor for a batch of image input\n",
    "    : image_shape: Shape of the images\n",
    "    : return: Tensor for image input.\n",
    "    \"\"\"\n",
    "    # TODO: Implement Function\n",
    "    return tf.placeholder(tf.float32, [None, image_shape[0], image_shape[1], image_shape[2]], name = \"x\")\n",
    "\n",
    "\n",
    "def neural_net_label_input(n_classes):\n",
    "    \"\"\"\n",
    "    Return a Tensor for a batch of label input\n",
    "    : n_classes: Number of classes\n",
    "    : return: Tensor for label input.\n",
    "    \"\"\"\n",
    "    # TODO: Implement Function\n",
    "    return tf.placeholder(tf.float32, [None, n_classes], name = \"y\")\n",
    "\n",
    "\n",
    "def neural_net_keep_prob_input():\n",
    "    \"\"\"\n",
    "    Return a Tensor for keep probability\n",
    "    : return: Tensor for keep probability.\n",
    "    \"\"\"\n",
    "    # TODO: Implement Function\n",
    "    return tf.placeholder(tf.float32, name = \"keep_prob\")\n",
    "\n",
    "\n",
    "\"\"\"\n",
    "DON'T MODIFY ANYTHING IN THIS CELL THAT IS BELOW THIS LINE\n",
    "\"\"\"\n",
    "tf.reset_default_graph()\n",
    "tests.test_nn_image_inputs(neural_net_image_input)\n",
    "tests.test_nn_label_inputs(neural_net_label_input)\n",
    "tests.test_nn_keep_prob_inputs(neural_net_keep_prob_input)"
   ]
  },
  {
   "cell_type": "markdown",
   "metadata": {},
   "source": [
    "### Convolution and Max Pooling Layer\n",
    "Convolution layers have a lot of success with images. For this code cell, you should implement the function `conv2d_maxpool` to apply convolution then max pooling:\n",
    "* Create the weight and bias using `conv_ksize`, `conv_num_outputs` and the shape of `x_tensor`.\n",
    "* Apply a convolution to `x_tensor` using weight and `conv_strides`.\n",
    " * We recommend you use same padding, but you're welcome to use any padding.\n",
    "* Add bias\n",
    "* Add a nonlinear activation to the convolution.\n",
    "* Apply Max Pooling using `pool_ksize` and `pool_strides`.\n",
    " * We recommend you use same padding, but you're welcome to use any padding.\n",
    "\n",
    "**Note:** You **can't** use [TensorFlow Layers](https://www.tensorflow.org/api_docs/python/tf/layers) or [TensorFlow Layers (contrib)](https://www.tensorflow.org/api_guides/python/contrib.layers) for **this** layer, but you can still use TensorFlow's [Neural Network](https://www.tensorflow.org/api_docs/python/tf/nn) package. You may still use the shortcut option for all the **other** layers.\n",
    "\n",
    "** Hint: **\n",
    "\n",
    "When unpacking values as an argument in Python, look into the [unpacking](https://docs.python.org/3/tutorial/controlflow.html#unpacking-argument-lists) operator. "
   ]
  },
  {
   "cell_type": "code",
   "execution_count": 11,
   "metadata": {},
   "outputs": [
    {
     "name": "stdout",
     "output_type": "stream",
     "text": [
      "Convolutional 2d layer is Tensor(\"BiasAdd:0\", shape=(?, 8, 8, 10), dtype=float32)\n",
      "ReLU output 2d layer is Tensor(\"Relu:0\", shape=(?, 8, 8, 10), dtype=float32)\n",
      "max cconv2d_maxpool_output is Tensor(\"MaxPool:0\", shape=(?, 4, 4, 10), dtype=float32)\n",
      "Tests Passed\n"
     ]
    }
   ],
   "source": [
    "def conv2d_maxpool(x_tensor, conv_num_outputs, conv_ksize, conv_strides, pool_ksize, pool_strides):\n",
    "    \"\"\"\n",
    "    Apply convolution then max pooling to x_tensor\n",
    "    :param x_tensor: TensorFlow Tensor\n",
    "    :param conv_num_outputs: Number of outputs for the convolutional layer\n",
    "    :param conv_ksize: kernal size 2-D Tuple for the convolutional layer\n",
    "    :param conv_strides: Stride 2-D Tuple for convolution\n",
    "    :param pool_ksize: kernal size 2-D Tuple for pool\n",
    "    :param pool_strides: Stride 2-D Tuple for pool\n",
    "    : return: A tensor that represents convolution and max pooling of x_tensor\n",
    "    \"\"\"\n",
    "    # TODO: Implement Function\n",
    "    #print(\"x_tensor type & value is\", type(x_tensor), x_tensor)\n",
    "    #print(\"conv_num_outputs type & value is\", type(conv_num_outputs), conv_num_outputs)\n",
    "    #print(\"conv_ksize type & value is\", type(conv_ksize), conv_ksize)\n",
    "    #onv_ksize_list = list(conv_ksize)\n",
    "    #print(\"conv_ksize type & value is\", type(conv_ksize_list), conv_ksize_list)\n",
    "    input_channels = int(x_tensor.shape[3])\n",
    "    #print(\"input channels type & value is\", type(input_channels), input_channels)\n",
    "    #print(\"conv_strides type & value is\", type(conv_strides), conv_strides)\n",
    "\n",
    "\n",
    "\n",
    "    conv_weights = tf.Variable(tf.truncated_normal((conv_ksize[0],conv_ksize[1],input_channels,conv_num_outputs),\n",
    "                                                   mean=0, stddev=0.01))\n",
    "    conv_bias = tf.Variable(tf.zeros([conv_num_outputs]))\n",
    "    #print(\"convolutional weights is\", conv_weights)\n",
    "    #print(\"convolutional bias is\", conv_bias)\n",
    "    \n",
    "    strides = [1, conv_strides[0], conv_strides[1], 1]\n",
    "    #print(\"strides is\", strides)\n",
    "    \n",
    "    conv2d = tf.nn.conv2d(x_tensor, conv_weights, strides, padding='SAME' )\n",
    "    conv2d = tf.nn.bias_add(conv2d, conv_bias)\n",
    "    print(\"Convolutional 2d layer is\", conv2d)\n",
    "    \n",
    "    conv2d_relu = tf.nn.relu(conv2d)\n",
    "    print(\"ReLU output 2d layer is\", conv2d_relu)\n",
    "    \n",
    "    \n",
    "    ksize = [1, pool_ksize[0], pool_ksize[1], 1]\n",
    "    kstrides = [1, pool_strides[0], pool_strides[1], 1]\n",
    "    \n",
    "    conv2d_maxpool_output = tf.nn.max_pool(conv2d_relu, ksize, kstrides, padding='SAME')\n",
    "    print(\"max cconv2d_maxpool_output is\", conv2d_maxpool_output)\n",
    "\n",
    "         \n",
    "    return conv2d_maxpool_output \n",
    "\n",
    "\n",
    "\n",
    "\"\"\"\n",
    "DON'T MODIFY ANYTHING IN THIS CELL THAT IS BELOW THIS LINE\n",
    "\"\"\"\n",
    "tests.test_con_pool(conv2d_maxpool)"
   ]
  },
  {
   "cell_type": "markdown",
   "metadata": {},
   "source": [
    "### Flatten Layer\n",
    "Implement the `flatten` function to change the dimension of `x_tensor` from a 4-D tensor to a 2-D tensor.  The output should be the shape (*Batch Size*, *Flattened Image Size*). Shortcut option: you can use classes from the [TensorFlow Layers](https://www.tensorflow.org/api_docs/python/tf/layers) or [TensorFlow Layers (contrib)](https://www.tensorflow.org/api_guides/python/contrib.layers) packages for this layer. For more of a challenge, only use other TensorFlow packages."
   ]
  },
  {
   "cell_type": "code",
   "execution_count": 12,
   "metadata": {},
   "outputs": [
    {
     "name": "stdout",
     "output_type": "stream",
     "text": [
      "flattend dimension is Tensor(\"Reshape:0\", shape=(?, 1800), dtype=float32)\n",
      "Tests Passed\n"
     ]
    }
   ],
   "source": [
    "def flatten(x_tensor):\n",
    "    \"\"\"\n",
    "    Flatten x_tensor to (Batch Size, Flattened Image Size)\n",
    "    : x_tensor: A tensor of size (Batch Size, ...), where ... are the image dimensions.\n",
    "    : return: A tensor of size (Batch Size, Flattened Image Size).\n",
    "    \"\"\"\n",
    "    # TODO: Implement Function\n",
    "    batch_size, dim1, dim2, dim3 = x_tensor.get_shape().as_list()\n",
    "    flat_dims = dim1 * dim2 * dim3\n",
    "    flatten_dimension = tf.reshape(x_tensor, [-1, flat_dims])\n",
    "    print(\"flattend dimension is\", flatten_dimension) \n",
    "    return flatten_dimension\n",
    "\n",
    "\n",
    "\"\"\"\n",
    "DON'T MODIFY ANYTHING IN THIS CELL THAT IS BELOW THIS LINE\n",
    "\"\"\"\n",
    "tests.test_flatten(flatten)"
   ]
  },
  {
   "cell_type": "markdown",
   "metadata": {},
   "source": [
    "### Fully-Connected Layer\n",
    "Implement the `fully_conn` function to apply a fully connected layer to `x_tensor` with the shape (*Batch Size*, *num_outputs*). Shortcut option: you can use classes from the [TensorFlow Layers](https://www.tensorflow.org/api_docs/python/tf/layers) or [TensorFlow Layers (contrib)](https://www.tensorflow.org/api_guides/python/contrib.layers) packages for this layer. For more of a challenge, only use other TensorFlow packages."
   ]
  },
  {
   "cell_type": "code",
   "execution_count": 13,
   "metadata": {},
   "outputs": [
    {
     "name": "stdout",
     "output_type": "stream",
     "text": [
      "Tests Passed\n"
     ]
    }
   ],
   "source": [
    "def fully_conn(x_tensor, num_outputs):\n",
    "    \"\"\"\n",
    "    Apply a fully connected layer to x_tensor using weight and bias\n",
    "    : x_tensor: A 2-D tensor where the first dimension is batch size.\n",
    "    : num_outputs: The number of output that the new tensor should be.\n",
    "    : return: A 2-D tensor where the second dimension is num_outputs.\n",
    "    \"\"\"\n",
    "    # TODO: Implement Function\n",
    "    #print(\"x_tensssssssssssssssssssssssss\", x_tensor.shape)\n",
    "    \n",
    "    #print(\"num_ouputs is\", num_outputs)\n",
    "    full_conn_weights =  tf.Variable(tf.truncated_normal([x_tensor.get_shape().as_list()[1], num_outputs], mean=0, stddev=0.01))\n",
    "    #print(\"Weights for fully connected cnn is\", full_conn_weights)\n",
    "    \n",
    "    full_conn_bias = tf.Variable(tf.zeros([num_outputs]))\n",
    "    #print(\"Biases  for fully connected cnn is\", full_conn_bias)\n",
    "    \n",
    "        \n",
    "    full_conn = tf.add(tf.matmul(x_tensor, full_conn_weights), full_conn_bias)\n",
    "    #fc1 = tf.add(tf.matmul(fc1, weights['wd1']), biases['bd1'])\n",
    "    #print(\"full connected cnn is\", full_conn)\n",
    "    full_conn = tf.nn.relu(full_conn)\n",
    "    #print(\"ReLU for full connected cnn is\", full_conn)\n",
    "    #fc1 = tf.nn.dropout(fc1, dropout)\n",
    "\n",
    "    return full_conn\n",
    "\n",
    "\n",
    "\"\"\"\n",
    "DON'T MODIFY ANYTHING IN THIS CELL THAT IS BELOW THIS LINE\n",
    "\"\"\"\n",
    "tests.test_fully_conn(fully_conn)"
   ]
  },
  {
   "cell_type": "markdown",
   "metadata": {},
   "source": [
    "### Output Layer\n",
    "Implement the `output` function to apply a fully connected layer to `x_tensor` with the shape (*Batch Size*, *num_outputs*). Shortcut option: you can use classes from the [TensorFlow Layers](https://www.tensorflow.org/api_docs/python/tf/layers) or [TensorFlow Layers (contrib)](https://www.tensorflow.org/api_guides/python/contrib.layers) packages for this layer. For more of a challenge, only use other TensorFlow packages.\n",
    "\n",
    "**Note:** Activation, softmax, or cross entropy should **not** be applied to this."
   ]
  },
  {
   "cell_type": "code",
   "execution_count": 14,
   "metadata": {},
   "outputs": [
    {
     "name": "stdout",
     "output_type": "stream",
     "text": [
      "Tests Passed\n"
     ]
    }
   ],
   "source": [
    "def output(x_tensor, num_outputs):\n",
    "    \"\"\"\n",
    "    Apply a output layer to x_tensor using weight and bias\n",
    "    : x_tensor: A 2-D tensor where the first dimension is batch size.\n",
    "    : num_outputs: The number of output that the new tensor should be.\n",
    "    : return: A 2-D tensor where the second dimension is num_outputs.\n",
    "    \"\"\"\n",
    "    # TODO: Implement Function\n",
    "    output_weights = tf.Variable(tf.truncated_normal([x_tensor.get_shape().as_list()[1], num_outputs], mean=0, stddev=0.01))\n",
    "    #print(\"Weights of the output is\", output_weights)\n",
    "    \n",
    "    output_biases = tf.Variable(tf.zeros([num_outputs]))\n",
    "    #print(\"Biases of the output is\", output_weights)\n",
    "    output = tf.add(tf.matmul(x_tensor, output_weights), output_biases)\n",
    "    #print(\"Output from from the output layer is\", output)\n",
    "    return output\n",
    "\n",
    "\n",
    "\n",
    "\"\"\"\n",
    "DON'T MODIFY ANYTHING IN THIS CELL THAT IS BELOW THIS LINE\n",
    "\"\"\"\n",
    "tests.test_output(output)"
   ]
  },
  {
   "cell_type": "markdown",
   "metadata": {},
   "source": [
    "### Create Convolutional Model\n",
    "Implement the function `conv_net` to create a convolutional neural network model. The function takes in a batch of images, `x`, and outputs logits.  Use the layers you created above to create this model:\n",
    "\n",
    "* Apply 1, 2, or 3 Convolution and Max Pool layers\n",
    "* Apply a Flatten Layer\n",
    "* Apply 1, 2, or 3 Fully Connected Layers\n",
    "* Apply an Output Layer\n",
    "* Return the output\n",
    "* Apply [TensorFlow's Dropout](https://www.tensorflow.org/api_docs/python/tf/nn/dropout) to one or more layers in the model using `keep_prob`. "
   ]
  },
  {
   "cell_type": "code",
   "execution_count": 15,
   "metadata": {},
   "outputs": [
    {
     "name": "stdout",
     "output_type": "stream",
     "text": [
      "Convolutional 2d layer is Tensor(\"BiasAdd:0\", shape=(?, 32, 32, 8), dtype=float32)\n",
      "ReLU output 2d layer is Tensor(\"Relu:0\", shape=(?, 32, 32, 8), dtype=float32)\n",
      "max cconv2d_maxpool_output is Tensor(\"MaxPool:0\", shape=(?, 32, 32, 8), dtype=float32)\n",
      "Convolutional 2d layer is Tensor(\"BiasAdd_1:0\", shape=(?, 32, 32, 16), dtype=float32)\n",
      "ReLU output 2d layer is Tensor(\"Relu_1:0\", shape=(?, 32, 32, 16), dtype=float32)\n",
      "max cconv2d_maxpool_output is Tensor(\"MaxPool_1:0\", shape=(?, 32, 32, 16), dtype=float32)\n",
      "Convolutional 2d layer is Tensor(\"BiasAdd_2:0\", shape=(?, 32, 32, 32), dtype=float32)\n",
      "ReLU output 2d layer is Tensor(\"Relu_2:0\", shape=(?, 32, 32, 32), dtype=float32)\n",
      "max cconv2d_maxpool_output is Tensor(\"MaxPool_2:0\", shape=(?, 32, 32, 32), dtype=float32)\n",
      "flattend dimension is Tensor(\"Reshape:0\", shape=(?, 32768), dtype=float32)\n",
      "Convolutional 2d layer is Tensor(\"BiasAdd_3:0\", shape=(?, 32, 32, 8), dtype=float32)\n",
      "ReLU output 2d layer is Tensor(\"Relu_5:0\", shape=(?, 32, 32, 8), dtype=float32)\n",
      "max cconv2d_maxpool_output is Tensor(\"MaxPool_3:0\", shape=(?, 32, 32, 8), dtype=float32)\n",
      "Convolutional 2d layer is Tensor(\"BiasAdd_4:0\", shape=(?, 32, 32, 16), dtype=float32)\n",
      "ReLU output 2d layer is Tensor(\"Relu_6:0\", shape=(?, 32, 32, 16), dtype=float32)\n",
      "max cconv2d_maxpool_output is Tensor(\"MaxPool_4:0\", shape=(?, 32, 32, 16), dtype=float32)\n",
      "Convolutional 2d layer is Tensor(\"BiasAdd_5:0\", shape=(?, 32, 32, 32), dtype=float32)\n",
      "ReLU output 2d layer is Tensor(\"Relu_7:0\", shape=(?, 32, 32, 32), dtype=float32)\n",
      "max cconv2d_maxpool_output is Tensor(\"MaxPool_5:0\", shape=(?, 32, 32, 32), dtype=float32)\n",
      "flattend dimension is Tensor(\"Reshape_4:0\", shape=(?, 32768), dtype=float32)\n",
      "Neural Network Built!\n"
     ]
    }
   ],
   "source": [
    "def conv_net(x, keep_prob):\n",
    "    \"\"\"\n",
    "    Create a convolutional neural network model\n",
    "    : x: Placeholder tensor that holds image data.\n",
    "    : keep_prob: Placeholder tensor that hold dropout keep probability.\n",
    "    : return: Tensor that represents logits\n",
    "    \"\"\"\n",
    "    # TODO: Apply 1, 2, or 3 Convolution and Max Pool layers\n",
    "    #    Play around with different number of outputs, kernel size and stride\n",
    "    # Function Definition from Above:\n",
    "    #    conv2d_maxpool(x_tensor, conv_num_outputs, conv_ksize, conv_strides, pool_ksize, pool_strides)\n",
    "    \n",
    "    #conv2d = conv2d_maxpool(x, 8, (3,3), (1,1), (2,2), (1,1))\n",
    "    #conv2d = conv2d_maxpool(x, 64, (4,4), (1,1), (2,2), (1,1))\n",
    "    #conv2d = conv2d_maxpool(x, 128, (5,5), (1,1), (2,2), (1,1))\n",
    "    \n",
    "    conv2d = conv2d_maxpool(x, 8, (3,3), (1,1), (2,2), (1,1))\n",
    "    conv2d = conv2d_maxpool(x, 16, (3,3), (1,1), (2,2), (1,1))\n",
    "    conv2d = conv2d_maxpool(x, 32, (3,3), (1,1), (2,2), (1,1))\n",
    "    \n",
    "    \n",
    "    #print(\"first cnn is\", conv2d)\n",
    "    \n",
    "\n",
    "    # TODO: Apply a Flatten Layer\n",
    "    # Function Definition from Above:\n",
    "    flat_conv2d = flatten(conv2d)\n",
    "    #print(\"first flatt is\", flat_conv2d)\n",
    "\n",
    "    # TODO: Apply 1, 2, or 3 Fully Connected Layers\n",
    "    #    Play around with different number of outputs\n",
    "    # Function Definition from Above:\n",
    "    first_full_conn = fully_conn(flat_conv2d, 512)\n",
    "    first_full_conn = tf.nn.dropout(first_full_conn, keep_prob)\n",
    "    first_full_conn = fully_conn(flat_conv2d, 256)\n",
    "    first_full_conn = tf.nn.dropout(first_full_conn, keep_prob)\n",
    "    #first_full_conn = fully_conn(flat_conv2d, 128)\n",
    "    #print(\"first first_full_conn is\", first_full_conn)\n",
    "    #first_full_conn = tf.nn.dropout(first_full_conn, keep_prob)\n",
    "\n",
    "    \n",
    "    # TODO: Apply an Output Layer\n",
    "    #    Set this to the number of classes\n",
    "    # Function Definition from Above:\n",
    "    conv_net_output = output(first_full_conn, 10)\n",
    "    #print(\"covnet output is\", conv_net_output)\n",
    "    \n",
    "    \n",
    "    # TODO: return output\n",
    "    return conv_net_output\n",
    "\n",
    "\n",
    "\n",
    "\"\"\"\n",
    "DON'T MODIFY ANYTHING IN THIS CELL THAT IS BELOW THIS LINE\n",
    "\"\"\"\n",
    "\n",
    "##############################\n",
    "## Build the Neural Network ##\n",
    "##############################\n",
    "\n",
    "# Remove previous weights, bias, inputs, etc..\n",
    "tf.reset_default_graph()\n",
    "\n",
    "# Inputs\n",
    "x = neural_net_image_input((32, 32, 3))\n",
    "y = neural_net_label_input(10)\n",
    "keep_prob = neural_net_keep_prob_input()\n",
    "\n",
    "# Model\n",
    "logits = conv_net(x, keep_prob)\n",
    "\n",
    "# Name logits Tensor, so that is can be loaded from disk after training\n",
    "logits = tf.identity(logits, name='logits')\n",
    "\n",
    "# Loss and Optimizer\n",
    "cost = tf.reduce_mean(tf.nn.softmax_cross_entropy_with_logits(logits=logits, labels=y))\n",
    "optimizer = tf.train.AdamOptimizer().minimize(cost)\n",
    "\n",
    "# Accuracy\n",
    "correct_pred = tf.equal(tf.argmax(logits, 1), tf.argmax(y, 1))\n",
    "accuracy = tf.reduce_mean(tf.cast(correct_pred, tf.float32), name='accuracy')\n",
    "\n",
    "tests.test_conv_net(conv_net)"
   ]
  },
  {
   "cell_type": "markdown",
   "metadata": {},
   "source": [
    "## Train the Neural Network\n",
    "### Single Optimization\n",
    "Implement the function `train_neural_network` to do a single optimization.  The optimization should use `optimizer` to optimize in `session` with a `feed_dict` of the following:\n",
    "* `x` for image input\n",
    "* `y` for labels\n",
    "* `keep_prob` for keep probability for dropout\n",
    "\n",
    "This function will be called for each batch, so `tf.global_variables_initializer()` has already been called.\n",
    "\n",
    "Note: Nothing needs to be returned. This function is only optimizing the neural network."
   ]
  },
  {
   "cell_type": "code",
   "execution_count": 16,
   "metadata": {},
   "outputs": [
    {
     "name": "stdout",
     "output_type": "stream",
     "text": [
      "Tests Passed\n"
     ]
    }
   ],
   "source": [
    "def train_neural_network(session, optimizer, keep_probability, feature_batch, label_batch):\n",
    "    \"\"\"\n",
    "    Optimize the session on a batch of images and labels\n",
    "    : session: Current TensorFlow session\n",
    "    : optimizer: TensorFlow optimizer function\n",
    "    : keep_probability: keep probability\n",
    "    : feature_batch: Batch of Numpy image data\n",
    "    : label_batch: Batch of Numpy label data\n",
    "    \"\"\"\n",
    "    # TODO: Implement Function\n",
    "    session.run(optimizer, feed_dict={x:feature_batch, y:label_batch, keep_prob:keep_probability})\n",
    "\n",
    "\n",
    "\n",
    "\"\"\"\n",
    "DON'T MODIFY ANYTHING IN THIS CELL THAT IS BELOW THIS LINE\n",
    "\"\"\"\n",
    "tests.test_train_nn(train_neural_network)"
   ]
  },
  {
   "cell_type": "markdown",
   "metadata": {},
   "source": [
    "### Show Stats\n",
    "Implement the function `print_stats` to print loss and validation accuracy.  Use the global variables `valid_features` and `valid_labels` to calculate validation accuracy.  Use a keep probability of `1.0` to calculate the loss and validation accuracy."
   ]
  },
  {
   "cell_type": "code",
   "execution_count": 17,
   "metadata": {},
   "outputs": [],
   "source": [
    "def print_stats(session, feature_batch, label_batch, cost, accuracy):\n",
    "    \"\"\"\n",
    "    Print information about loss and validation accuracy\n",
    "    : session: Current TensorFlow session\n",
    "    : feature_batch: Batch of Numpy image data\n",
    "    : label_batch: Batch of Numpy label data\n",
    "    : cost: TensorFlow cost function\n",
    "    : accuracy: TensorFlow accuracy function\n",
    "    \"\"\"\n",
    "    # TODO: Implement Function\n",
    "    loss = session.run(cost, feed_dict={x: feature_batch, y: label_batch, keep_prob: keep_probability})\n",
    "    accuracy = session.run(accuracy, feed_dict={x: valid_features, y: valid_labels, keep_prob: keep_probability})\n",
    "    \n",
    "    print(\"Loss of the CNN is\", loss)\n",
    "    print(\"Accuracy of the CNN is\", accuracy)"
   ]
  },
  {
   "cell_type": "markdown",
   "metadata": {},
   "source": [
    "### Hyperparameters\n",
    "Tune the following parameters:\n",
    "* Set `epochs` to the number of iterations until the network stops learning or start overfitting\n",
    "* Set `batch_size` to the highest number that your machine has memory for.  Most people set them to common sizes of memory:\n",
    " * 64\n",
    " * 128\n",
    " * 256\n",
    " * ...\n",
    "* Set `keep_probability` to the probability of keeping a node using dropout"
   ]
  },
  {
   "cell_type": "code",
   "execution_count": 23,
   "metadata": {
    "collapsed": true
   },
   "outputs": [],
   "source": [
    "# TODO: Tune Parameters\n",
    "epochs = 15\n",
    "batch_size = 64\n",
    "keep_probability = 0.75"
   ]
  },
  {
   "cell_type": "markdown",
   "metadata": {},
   "source": [
    "### Train on a Single CIFAR-10 Batch\n",
    "Instead of training the neural network on all the CIFAR-10 batches of data, let's use a single batch. This should save time while you iterate on the model to get a better accuracy.  Once the final validation accuracy is 50% or greater, run the model on all the data in the next section."
   ]
  },
  {
   "cell_type": "code",
   "execution_count": 24,
   "metadata": {},
   "outputs": [
    {
     "name": "stdout",
     "output_type": "stream",
     "text": [
      "Checking the Training on a Single Batch...\n",
      "Epoch  1, CIFAR-10 Batch 1:  Loss of the CNN is 2.06288\n",
      "Accuracy of the CNN is 0.3154\n",
      "Epoch  2, CIFAR-10 Batch 1:  Loss of the CNN is 1.85466\n",
      "Accuracy of the CNN is 0.371\n",
      "Epoch  3, CIFAR-10 Batch 1:  Loss of the CNN is 1.6661\n",
      "Accuracy of the CNN is 0.4258\n",
      "Epoch  4, CIFAR-10 Batch 1:  Loss of the CNN is 1.51928\n",
      "Accuracy of the CNN is 0.4644\n",
      "Epoch  5, CIFAR-10 Batch 1:  Loss of the CNN is 1.4612\n",
      "Accuracy of the CNN is 0.4926\n",
      "Epoch  6, CIFAR-10 Batch 1:  Loss of the CNN is 1.34442\n",
      "Accuracy of the CNN is 0.5004\n",
      "Epoch  7, CIFAR-10 Batch 1:  Loss of the CNN is 1.2751\n",
      "Accuracy of the CNN is 0.4854\n",
      "Epoch  8, CIFAR-10 Batch 1:  Loss of the CNN is 1.23386\n",
      "Accuracy of the CNN is 0.5086\n",
      "Epoch  9, CIFAR-10 Batch 1:  Loss of the CNN is 1.05764\n",
      "Accuracy of the CNN is 0.5222\n",
      "Epoch 10, CIFAR-10 Batch 1:  Loss of the CNN is 0.968255\n",
      "Accuracy of the CNN is 0.5166\n",
      "Epoch 11, CIFAR-10 Batch 1:  Loss of the CNN is 0.708394\n",
      "Accuracy of the CNN is 0.518\n",
      "Epoch 12, CIFAR-10 Batch 1:  Loss of the CNN is 0.775096\n",
      "Accuracy of the CNN is 0.5212\n",
      "Epoch 13, CIFAR-10 Batch 1:  Loss of the CNN is 0.641736\n",
      "Accuracy of the CNN is 0.5208\n",
      "Epoch 14, CIFAR-10 Batch 1:  Loss of the CNN is 0.703695\n",
      "Accuracy of the CNN is 0.522\n",
      "Epoch 15, CIFAR-10 Batch 1:  Loss of the CNN is 0.536594\n",
      "Accuracy of the CNN is 0.5272\n"
     ]
    }
   ],
   "source": [
    "\"\"\"\n",
    "DON'T MODIFY ANYTHING IN THIS CELL\n",
    "\"\"\"\n",
    "print('Checking the Training on a Single Batch...')\n",
    "with tf.Session() as sess:\n",
    "    # Initializing the variables\n",
    "    sess.run(tf.global_variables_initializer())\n",
    "    \n",
    "    # Training cycle\n",
    "    for epoch in range(epochs):\n",
    "        batch_i = 1\n",
    "        for batch_features, batch_labels in helper.load_preprocess_training_batch(batch_i, batch_size):\n",
    "            train_neural_network(sess, optimizer, keep_probability, batch_features, batch_labels)\n",
    "        print('Epoch {:>2}, CIFAR-10 Batch {}:  '.format(epoch + 1, batch_i), end='')\n",
    "        print_stats(sess, batch_features, batch_labels, cost, accuracy)"
   ]
  },
  {
   "cell_type": "markdown",
   "metadata": {},
   "source": [
    "### Fully Train the Model\n",
    "Now that you got a good accuracy with a single CIFAR-10 batch, try it with all five batches."
   ]
  },
  {
   "cell_type": "code",
   "execution_count": 25,
   "metadata": {},
   "outputs": [
    {
     "name": "stdout",
     "output_type": "stream",
     "text": [
      "Training...\n",
      "Epoch  1, CIFAR-10 Batch 1:  Loss of the CNN is 2.09348\n",
      "Accuracy of the CNN is 0.3118\n",
      "Epoch  1, CIFAR-10 Batch 2:  Loss of the CNN is 1.56342\n",
      "Accuracy of the CNN is 0.4058\n",
      "Epoch  1, CIFAR-10 Batch 3:  Loss of the CNN is 1.29956\n",
      "Accuracy of the CNN is 0.4552\n",
      "Epoch  1, CIFAR-10 Batch 4:  Loss of the CNN is 1.40853\n",
      "Accuracy of the CNN is 0.4794\n",
      "Epoch  1, CIFAR-10 Batch 5:  Loss of the CNN is 1.51884\n",
      "Accuracy of the CNN is 0.5074\n",
      "Epoch  2, CIFAR-10 Batch 1:  Loss of the CNN is 1.62114\n",
      "Accuracy of the CNN is 0.5084\n",
      "Epoch  2, CIFAR-10 Batch 2:  Loss of the CNN is 1.11917\n",
      "Accuracy of the CNN is 0.521\n",
      "Epoch  2, CIFAR-10 Batch 3:  Loss of the CNN is 1.03731\n",
      "Accuracy of the CNN is 0.5404\n",
      "Epoch  2, CIFAR-10 Batch 4:  Loss of the CNN is 1.22947\n",
      "Accuracy of the CNN is 0.5432\n",
      "Epoch  2, CIFAR-10 Batch 5:  Loss of the CNN is 1.27578\n",
      "Accuracy of the CNN is 0.5546\n",
      "Epoch  3, CIFAR-10 Batch 1:  Loss of the CNN is 1.42033\n",
      "Accuracy of the CNN is 0.5556\n",
      "Epoch  3, CIFAR-10 Batch 2:  Loss of the CNN is 0.939274\n",
      "Accuracy of the CNN is 0.5552\n",
      "Epoch  3, CIFAR-10 Batch 3:  Loss of the CNN is 0.767973\n",
      "Accuracy of the CNN is 0.5554\n",
      "Epoch  3, CIFAR-10 Batch 4:  Loss of the CNN is 1.13643\n",
      "Accuracy of the CNN is 0.558\n",
      "Epoch  3, CIFAR-10 Batch 5:  Loss of the CNN is 1.11623\n",
      "Accuracy of the CNN is 0.5672\n",
      "Epoch  4, CIFAR-10 Batch 1:  Loss of the CNN is 1.26548\n",
      "Accuracy of the CNN is 0.57\n",
      "Epoch  4, CIFAR-10 Batch 2:  Loss of the CNN is 0.921354\n",
      "Accuracy of the CNN is 0.577\n",
      "Epoch  4, CIFAR-10 Batch 3:  Loss of the CNN is 0.794431\n",
      "Accuracy of the CNN is 0.5836\n",
      "Epoch  4, CIFAR-10 Batch 4:  Loss of the CNN is 0.928285\n",
      "Accuracy of the CNN is 0.58\n",
      "Epoch  4, CIFAR-10 Batch 5:  Loss of the CNN is 0.973154\n",
      "Accuracy of the CNN is 0.5754\n",
      "Epoch  5, CIFAR-10 Batch 1:  Loss of the CNN is 1.05326\n",
      "Accuracy of the CNN is 0.5936\n",
      "Epoch  5, CIFAR-10 Batch 2:  Loss of the CNN is 0.905149\n",
      "Accuracy of the CNN is 0.5832\n",
      "Epoch  5, CIFAR-10 Batch 3:  Loss of the CNN is 0.693122\n",
      "Accuracy of the CNN is 0.5872\n",
      "Epoch  5, CIFAR-10 Batch 4:  Loss of the CNN is 0.785591\n",
      "Accuracy of the CNN is 0.5872\n",
      "Epoch  5, CIFAR-10 Batch 5:  Loss of the CNN is 0.830761\n",
      "Accuracy of the CNN is 0.5816\n",
      "Epoch  6, CIFAR-10 Batch 1:  Loss of the CNN is 1.0276\n",
      "Accuracy of the CNN is 0.593\n",
      "Epoch  6, CIFAR-10 Batch 2:  Loss of the CNN is 0.662037\n",
      "Accuracy of the CNN is 0.5916\n",
      "Epoch  6, CIFAR-10 Batch 3:  Loss of the CNN is 0.529162\n",
      "Accuracy of the CNN is 0.5966\n",
      "Epoch  6, CIFAR-10 Batch 4:  Loss of the CNN is 0.869143\n",
      "Accuracy of the CNN is 0.592\n",
      "Epoch  6, CIFAR-10 Batch 5:  Loss of the CNN is 0.776258\n",
      "Accuracy of the CNN is 0.6006\n",
      "Epoch  7, CIFAR-10 Batch 1:  Loss of the CNN is 0.936293\n",
      "Accuracy of the CNN is 0.5856\n",
      "Epoch  7, CIFAR-10 Batch 2:  Loss of the CNN is 0.676014\n",
      "Accuracy of the CNN is 0.595\n",
      "Epoch  7, CIFAR-10 Batch 3:  Loss of the CNN is 0.483332\n",
      "Accuracy of the CNN is 0.5882\n",
      "Epoch  7, CIFAR-10 Batch 4:  Loss of the CNN is 0.702229\n",
      "Accuracy of the CNN is 0.5904\n",
      "Epoch  7, CIFAR-10 Batch 5:  Loss of the CNN is 0.705049\n",
      "Accuracy of the CNN is 0.596\n",
      "Epoch  8, CIFAR-10 Batch 1:  Loss of the CNN is 0.777955\n",
      "Accuracy of the CNN is 0.5968\n",
      "Epoch  8, CIFAR-10 Batch 2:  Loss of the CNN is 0.534327\n",
      "Accuracy of the CNN is 0.5856\n",
      "Epoch  8, CIFAR-10 Batch 3:  Loss of the CNN is 0.462909\n",
      "Accuracy of the CNN is 0.5914\n",
      "Epoch  8, CIFAR-10 Batch 4:  Loss of the CNN is 0.624152\n",
      "Accuracy of the CNN is 0.5974\n",
      "Epoch  8, CIFAR-10 Batch 5:  Loss of the CNN is 0.674411\n",
      "Accuracy of the CNN is 0.5922\n",
      "Epoch  9, CIFAR-10 Batch 1:  Loss of the CNN is 0.578996\n",
      "Accuracy of the CNN is 0.5842\n",
      "Epoch  9, CIFAR-10 Batch 2:  Loss of the CNN is 0.617467\n",
      "Accuracy of the CNN is 0.5944\n",
      "Epoch  9, CIFAR-10 Batch 3:  Loss of the CNN is 0.432183\n",
      "Accuracy of the CNN is 0.5978\n",
      "Epoch  9, CIFAR-10 Batch 4:  Loss of the CNN is 0.551966\n",
      "Accuracy of the CNN is 0.5994\n",
      "Epoch  9, CIFAR-10 Batch 5:  Loss of the CNN is 0.594066\n",
      "Accuracy of the CNN is 0.5934\n",
      "Epoch 10, CIFAR-10 Batch 1:  Loss of the CNN is 0.706001\n",
      "Accuracy of the CNN is 0.5972\n",
      "Epoch 10, CIFAR-10 Batch 2:  Loss of the CNN is 0.544546\n",
      "Accuracy of the CNN is 0.598\n",
      "Epoch 10, CIFAR-10 Batch 3:  Loss of the CNN is 0.451095\n",
      "Accuracy of the CNN is 0.5832\n",
      "Epoch 10, CIFAR-10 Batch 4:  Loss of the CNN is 0.592268\n",
      "Accuracy of the CNN is 0.5986\n",
      "Epoch 10, CIFAR-10 Batch 5:  Loss of the CNN is 0.500641\n",
      "Accuracy of the CNN is 0.5962\n",
      "Epoch 11, CIFAR-10 Batch 1:  Loss of the CNN is 0.560185\n",
      "Accuracy of the CNN is 0.5986\n",
      "Epoch 11, CIFAR-10 Batch 2:  Loss of the CNN is 0.366697\n",
      "Accuracy of the CNN is 0.597\n",
      "Epoch 11, CIFAR-10 Batch 3:  Loss of the CNN is 0.481043\n",
      "Accuracy of the CNN is 0.5796\n",
      "Epoch 11, CIFAR-10 Batch 4:  Loss of the CNN is 0.4134\n",
      "Accuracy of the CNN is 0.5968\n",
      "Epoch 11, CIFAR-10 Batch 5:  Loss of the CNN is 0.567388\n",
      "Accuracy of the CNN is 0.581\n",
      "Epoch 12, CIFAR-10 Batch 1:  Loss of the CNN is 0.528881\n",
      "Accuracy of the CNN is 0.5908\n",
      "Epoch 12, CIFAR-10 Batch 2:  Loss of the CNN is 0.390844\n",
      "Accuracy of the CNN is 0.596\n",
      "Epoch 12, CIFAR-10 Batch 3:  Loss of the CNN is 0.359482\n",
      "Accuracy of the CNN is 0.574\n",
      "Epoch 12, CIFAR-10 Batch 4:  Loss of the CNN is 0.283511\n",
      "Accuracy of the CNN is 0.5872\n",
      "Epoch 12, CIFAR-10 Batch 5:  Loss of the CNN is 0.458706\n",
      "Accuracy of the CNN is 0.5806\n",
      "Epoch 13, CIFAR-10 Batch 1:  Loss of the CNN is 0.607615\n",
      "Accuracy of the CNN is 0.5938\n",
      "Epoch 13, CIFAR-10 Batch 2:  Loss of the CNN is 0.492205\n",
      "Accuracy of the CNN is 0.5904\n",
      "Epoch 13, CIFAR-10 Batch 3:  Loss of the CNN is 0.349076\n",
      "Accuracy of the CNN is 0.5844\n",
      "Epoch 13, CIFAR-10 Batch 4:  Loss of the CNN is 0.422804\n",
      "Accuracy of the CNN is 0.5942\n",
      "Epoch 13, CIFAR-10 Batch 5:  Loss of the CNN is 0.357247\n",
      "Accuracy of the CNN is 0.5896\n",
      "Epoch 14, CIFAR-10 Batch 1:  Loss of the CNN is 0.499885\n",
      "Accuracy of the CNN is 0.5938\n",
      "Epoch 14, CIFAR-10 Batch 2:  Loss of the CNN is 0.375349\n",
      "Accuracy of the CNN is 0.5888\n",
      "Epoch 14, CIFAR-10 Batch 3:  Loss of the CNN is 0.359558\n",
      "Accuracy of the CNN is 0.5684\n",
      "Epoch 14, CIFAR-10 Batch 4:  Loss of the CNN is 0.313171\n",
      "Accuracy of the CNN is 0.587\n",
      "Epoch 14, CIFAR-10 Batch 5:  Loss of the CNN is 0.295936\n",
      "Accuracy of the CNN is 0.5758\n",
      "Epoch 15, CIFAR-10 Batch 1:  Loss of the CNN is 0.416007\n",
      "Accuracy of the CNN is 0.5962\n",
      "Epoch 15, CIFAR-10 Batch 2:  Loss of the CNN is 0.383498\n",
      "Accuracy of the CNN is 0.5758\n",
      "Epoch 15, CIFAR-10 Batch 3:  Loss of the CNN is 0.233207\n",
      "Accuracy of the CNN is 0.5642\n",
      "Epoch 15, CIFAR-10 Batch 4:  Loss of the CNN is 0.323984\n",
      "Accuracy of the CNN is 0.5764\n",
      "Epoch 15, CIFAR-10 Batch 5:  Loss of the CNN is 0.330379\n",
      "Accuracy of the CNN is 0.5714\n"
     ]
    }
   ],
   "source": [
    "\"\"\"\n",
    "DON'T MODIFY ANYTHING IN THIS CELL\n",
    "\"\"\"\n",
    "save_model_path = './image_classification'\n",
    "\n",
    "print('Training...')\n",
    "with tf.Session() as sess:\n",
    "    # Initializing the variables\n",
    "    sess.run(tf.global_variables_initializer())\n",
    "    \n",
    "    # Training cycle\n",
    "    for epoch in range(epochs):\n",
    "        # Loop over all batches\n",
    "        n_batches = 5\n",
    "        for batch_i in range(1, n_batches + 1):\n",
    "            for batch_features, batch_labels in helper.load_preprocess_training_batch(batch_i, batch_size):\n",
    "                train_neural_network(sess, optimizer, keep_probability, batch_features, batch_labels)\n",
    "            print('Epoch {:>2}, CIFAR-10 Batch {}:  '.format(epoch + 1, batch_i), end='')\n",
    "            print_stats(sess, batch_features, batch_labels, cost, accuracy)\n",
    "            \n",
    "    # Save Model\n",
    "    saver = tf.train.Saver()\n",
    "    save_path = saver.save(sess, save_model_path)"
   ]
  },
  {
   "cell_type": "markdown",
   "metadata": {},
   "source": [
    "# Checkpoint\n",
    "The model has been saved to disk.\n",
    "## Test Model\n",
    "Test your model against the test dataset.  This will be your final accuracy. You should have an accuracy greater than 50%. If you don't, keep tweaking the model architecture and parameters."
   ]
  },
  {
   "cell_type": "code",
   "execution_count": 26,
   "metadata": {},
   "outputs": [
    {
     "name": "stdout",
     "output_type": "stream",
     "text": [
      "INFO:tensorflow:Restoring parameters from ./image_classification\n",
      "Testing Accuracy: 0.6033041401273885\n",
      "\n"
     ]
    },
    {
     "data": {
      "image/png": "[encoded data removed]",
      "text/plain": [
       "<matplotlib.figure.Figure at 0x3875d30>"
      ]
     },
     "metadata": {
      "image/png": {
       "height": 319,
       "width": 355
      }
     },
     "output_type": "display_data"
    }
   ],
   "source": [
    "\"\"\"\n",
    "DON'T MODIFY ANYTHING IN THIS CELL\n",
    "\"\"\"\n",
    "%matplotlib inline\n",
    "%config InlineBackend.figure_format = 'retina'\n",
    "\n",
    "import tensorflow as tf\n",
    "import pickle\n",
    "import helper\n",
    "import random\n",
    "\n",
    "# Set batch size if not already set\n",
    "try:\n",
    "    if batch_size:\n",
    "        pass\n",
    "except NameError:\n",
    "    batch_size = 64\n",
    "\n",
    "save_model_path = './image_classification'\n",
    "n_samples = 4\n",
    "top_n_predictions = 3\n",
    "\n",
    "def test_model():\n",
    "    \"\"\"\n",
    "    Test the saved model against the test dataset\n",
    "    \"\"\"\n",
    "\n",
    "    test_features, test_labels = pickle.load(open('preprocess_training.p', mode='rb'))\n",
    "    loaded_graph = tf.Graph()\n",
    "\n",
    "    with tf.Session(graph=loaded_graph) as sess:\n",
    "        # Load model\n",
    "        loader = tf.train.import_meta_graph(save_model_path + '.meta')\n",
    "        loader.restore(sess, save_model_path)\n",
    "\n",
    "        # Get Tensors from loaded model\n",
    "        loaded_x = loaded_graph.get_tensor_by_name('x:0')\n",
    "        loaded_y = loaded_graph.get_tensor_by_name('y:0')\n",
    "        loaded_keep_prob = loaded_graph.get_tensor_by_name('keep_prob:0')\n",
    "        loaded_logits = loaded_graph.get_tensor_by_name('logits:0')\n",
    "        loaded_acc = loaded_graph.get_tensor_by_name('accuracy:0')\n",
    "        \n",
    "        # Get accuracy in batches for memory limitations\n",
    "        test_batch_acc_total = 0\n",
    "        test_batch_count = 0\n",
    "        \n",
    "        for train_feature_batch, train_label_batch in helper.batch_features_labels(test_features, test_labels, batch_size):\n",
    "            test_batch_acc_total += sess.run(\n",
    "                loaded_acc,\n",
    "                feed_dict={loaded_x: train_feature_batch, loaded_y: train_label_batch, loaded_keep_prob: 1.0})\n",
    "            test_batch_count += 1\n",
    "\n",
    "        print('Testing Accuracy: {}\\n'.format(test_batch_acc_total/test_batch_count))\n",
    "\n",
    "        # Print Random Samples\n",
    "        random_test_features, random_test_labels = tuple(zip(*random.sample(list(zip(test_features, test_labels)), n_samples)))\n",
    "        random_test_predictions = sess.run(\n",
    "            tf.nn.top_k(tf.nn.softmax(loaded_logits), top_n_predictions),\n",
    "            feed_dict={loaded_x: random_test_features, loaded_y: random_test_labels, loaded_keep_prob: 1.0})\n",
    "        helper.display_image_predictions(random_test_features, random_test_labels, random_test_predictions)\n",
    "\n",
    "\n",
    "test_model()"
   ]
  },
  {
   "cell_type": "markdown",
   "metadata": {},
   "source": [
    "## Why 50-80% Accuracy?\n",
    "You might be wondering why you can't get an accuracy any higher. First things first, 50% isn't bad for a simple CNN.  Pure guessing would get you 10% accuracy. That's because there are many more techniques that can be applied to your model and we recemmond that once you are done with this project, you explore!\n",
    "\n",
    "## Submitting This Project\n",
    "When submitting this project, make sure to run all the cells before saving the notebook.  Save the notebook file as \"image_classification.ipynb\" and save it as a HTML file under \"File\" -> \"Download as\".  Include the \"helper.py\" and \"problem_unittests.py\" files in your submission."
   ]
  }
 ],
 "metadata": {
  "kernelspec": {
   "display_name": "Python 3",
   "language": "python",
   "name": "python3"
  },
  "language_info": {
   "codemirror_mode": {
    "name": "ipython",
    "version": 3
   },
   "file_extension": ".py",
   "mimetype": "text/x-python",
   "name": "python",
   "nbconvert_exporter": "python",
   "pygments_lexer": "ipython3",
   "version": "3.5.3"
  }
 },
 "nbformat": 4,
 "nbformat_minor": 1
}
